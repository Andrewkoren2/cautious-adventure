{
 "cells": [
  {
   "cell_type": "markdown",
   "metadata": {},
   "source": [
    "$$\n",
    "y'' + \\frac{3}{t} y' - \\frac{3}{t^2}y = 0 \\\\\n",
    "a_1 = \\frac{3}{t}\\\\\n",
    "A_1 = \\ln(t^3)\n",
    "$$"
   ]
  },
  {
   "cell_type": "markdown",
   "metadata": {},
   "source": [
    "$y_1^2 = t^{18},\\implies v(t) = \\int \\frac{1}{t^{21}} dt = -21 t^{-22}$"
   ]
  },
  {
   "cell_type": "markdown",
   "metadata": {},
   "source": [
    "$$\n",
    "y_2 = v t^9 \\\\\n",
    "y_2' = v' t^9 + 9 v t^8 \\\\\n",
    "y_2'' = v'' t^9 + 9v' t^8 + 9v' t^8 + 72 v t^7 \\\\\n",
    "t^2 (v'' t^2 + 9 v' t + 9v't^2 + 72v)t^7 - 13 t (v't + 9v )t^8 + 45 vt^9 = 0 \\\\\n",
    "v'' t^2 + 9 v' t + 9v't + 72v - 13 v' t - 13 *9 v + 45v = 0\\\\\n",
    " \n",
    "$$"
   ]
  },
  {
   "cell_type": "markdown",
   "metadata": {},
   "source": [
    "$$\n",
    "s^2L(y)-sy-y'-2(sL(y)-y)-3L(y) = 3 \\frac{1}{s-2} \n",
    "\n",
    "$$"
   ]
  },
  {
   "cell_type": "markdown",
   "metadata": {},
   "source": [
    "$$\n",
    "L(y)(s^2-2s-3) = 3\\frac{1}{s-2} \\\\\n",
    "L(y) = 3\\frac{1}{s-2}\\frac{1}{s^2-2s-3} = 3\\frac{1}{s-2}\\frac{1}{s-3}\\frac{1}{s+1}\\\\\n",
    "= 3/4 (1/s-3) - 1 (1/s-2) + 1/4 ( 1/s+1)\\\\\n",
    "y = \n",
    "$$\n",
    "\n",
    "$$\n",
    "L(y)(s^2-7s+10) - s (-3) - 4 - (7)(3) = -\\frac{2s}{s^2+9}\n",
    "$$"
   ]
  },
  {
   "cell_type": "markdown",
   "metadata": {},
   "source": [
    "$$\n",
    "\\frac{2s}{s^2+9}-3s-1\n",
    "$$"
   ]
  },
  {
   "cell_type": "markdown",
   "metadata": {},
   "source": [
    "# Stuff to memorize"
   ]
  },
  {
   "cell_type": "markdown",
   "metadata": {},
   "source": [
    "ROM: $y_2 = y_1 v(t)$ <br>\n",
    "$v(t) = \\int \\frac{e^{-A_1(t)}}{y_1^2}dt $"
   ]
  }
 ],
 "metadata": {
  "language_info": {
   "name": "python"
  }
 },
 "nbformat": 4,
 "nbformat_minor": 2
}
