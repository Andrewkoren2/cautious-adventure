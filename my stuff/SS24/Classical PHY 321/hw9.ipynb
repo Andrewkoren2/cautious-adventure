{
 "cells": [
  {
   "cell_type": "markdown",
   "id": "61477505",
   "metadata": {
    "editable": true
   },
   "source": [
    "<!-- HTML file automatically generated from DocOnce source (https://github.com/doconce/doconce/)\n",
    "doconce format html hw5.do.txt --no_mako -->\n",
    "<!-- dom:TITLE: PHY321: Classical Mechanics 1 -->"
   ]
  },
  {
   "cell_type": "markdown",
   "id": "97e96985",
   "metadata": {
    "editable": true
   },
   "source": [
    "# Homework 9 (Due 19 Apr)\n",
    "**Due Apr 19 (midnight)**\n",
    "\n",
    "Date: **Apr 8, 2024**\n",
    "Total points: **100**"
   ]
  },
  {
   "cell_type": "code",
   "execution_count": 1,
   "id": "20eb8b0c-ac27-4107-a14c-d228c615b5b6",
   "metadata": {
    "editable": true
   },
   "outputs": [],
   "source": [
    "import numpy as np\n",
    "from math import *\n",
    "import matplotlib.pyplot as plt\n",
    "import pandas as pd\n",
    "%matplotlib inline\n",
    "plt.style.use('seaborn-v0_8-colorblind')"
   ]
  },
  {
   "cell_type": "markdown",
   "id": "c9f69fcd",
   "metadata": {
    "editable": true
   },
   "source": [
    "## Introduction to Homework 9\n",
    "\n",
    "This week's exercises focus on Lagrangian Dynamics. The relevant reading background is:\n",
    "\n",
    "1. chapter 6.1-6.3, 7.1-7.7, 7.10 of Taylor \n",
    "\n",
    "2. chapter 9.1-9.5 of Boas\n",
    "\n",
    "In both textbooks there are many nice worked out examples. \n",
    "\n",
    "\n",
    "### Practicalities about  homeworks and projects\n",
    "\n",
    "1. You can work in groups (optimal groups are often 2-3 people) or by yourself. If you work as a group you can hand in one answer only if you wish. **Remember to write your name(s)**!\n",
    "\n",
    "2. Homeworks are available ten days before the deadline.\n",
    "\n",
    "3. How do I (we) hand in?  You can hand in the paper and pencil exercises as a scanned document. For this homework this applies to exercises 1-4. Alternatively, you can hand in everything (if you are ok with typing mathematical formulae using say Latex) as a jupyter notebook at D2L. The numerical exercise(s) (exercise 5-6 here) should always be handed in as a jupyter notebook by the deadline at D2L."
   ]
  },
  {
   "cell_type": "markdown",
   "id": "3199a06d",
   "metadata": {},
   "source": [
    "#### Exercise 1 (10pt) Modifying Lagrangians for friction\n",
    "\n",
    "We have seen that we have develop the Lagrangian formalism for a potential that depends on location $U({q}_1, {q}_2, \\dots, {q}_N)$ and a kinetic energy term that depends on speeds $T(\\dot{q}_1, \\dot{q}_2, \\dots, \\dot{q}_N)$. But we've said nothing about friction.\n",
    "\n",
    "Consider a single particle in one dimension that moves in a potential $U(x)$ and is subject to a frictional force $F_{fric}$. \n",
    "\n",
    "1. (5 pt) Write down the Lagrangian for this system.\n",
    "2. (5 pt) Show that you can write an equation of motion for this system in the form,\n",
    "\n",
    "$$\\frac{\\partial L}{\\partial x} + F_{fric} = \\frac{d}{dt}\\left(\\frac{\\partial L}{\\partial \\dot{x}}\\right).$$\n"
   ]
  },
  {
   "cell_type": "markdown",
   "id": "8e841812",
   "metadata": {},
   "source": [
    "#### Exercise 2 (15pt) Modeling a Yo-yo\n",
    "\n",
    "![Yo-yo](../images/assignments/9.2-yoyo.png)\n",
    "\n",
    "We have a rough model of a yo-yo above, really just a cylinder of mass $m$ and radius $R$ that can roll out on the string under the influence of gravity. The string is massless and inextensible. Choose the coordinate $x$ as shown to be the generalized coordinate.\n",
    "\n",
    "1. (7 pt) Write down the Lagrangian for this system.\n",
    "2. (8 pt) Show that the cylinder accelerates at a rate $2g/3$."
   ]
  },
  {
   "cell_type": "markdown",
   "id": "77299f96",
   "metadata": {},
   "source": [
    "#### Exercise 3 (15pt) Constrained to a helix\n",
    "\n",
    "A bead is constrained to move on a helix with $\\rho = a$ and $z = b\\phi$, where $a$ and $b$ are constants. The helix is oriented upright, so the $z$ axis is vertical. The bead is subject to a gravitational force $-mg\\hat{z}$.\n",
    "\n",
    "1. (5 pt) Write down the Lagrangian for this system.\n",
    "2. (5 pt) Find the equations of motion for this system. Explain what the motion of the bead looks like.\n",
    "3. (5 pt) What happens when $R \\rightarrow 0$? Explain what the motion of the bead looks like in this limit."
   ]
  },
  {
   "cell_type": "markdown",
   "id": "8b07734b",
   "metadata": {},
   "source": [
    "#### Exercise 4 (25pt) Lagrangians with rotating systems\n",
    "\n",
    "As we develop more complicated systems, we will encounter rotating systems. In this problem, we will consider a simple example of a rotating system. A bead is constrained to move on a straight frictionless rod. The rod can pivot about it's center (like it's spinning on a table). The rod rotates with a constant angular velocity $\\omega$ its center.\n",
    "\n",
    "1. (5pt) Write down the Lagrangian for the threaded bead using $r$ as the generalized coordinate. Note: how is $\\phi$ related to $\\omega$?\n",
    "2. (5pt) Find the equations of motion for this system, and solve for $r(t)$.\n",
    "3. (5pt) What happens if the bead starts at rest at $r = r_0$? What is the motion of the bead?\n",
    "4. (5pt) If it released from rest at $r = r_0$, what is the motion of the bead? Explain in terms of the centrifugal force ($m\\omega^2r$).\n",
    "5. (5pt) What have you noticed about solving this problem, which is different from the other problems we've done so far?\n"
   ]
  },
  {
   "cell_type": "markdown",
   "id": "c3a527e8",
   "metadata": {},
   "source": [
    "#### Exercise 5 (35 pt) Driven Pendulum\n",
    "\n",
    "![Pendulum](../images/assignments/9.5-pendulum.png)\n",
    "\n",
    "The pendulum above is driven by a motor that rotates the wheel shown. The set up is the wheel of radius $R$ rotates at a constant angular velocity $\\omega$. The pendulum is free to swing in the vertical plane. The pendulum has length $l$ and mass $m$. The pendulum is attached the edge of the wheel at point $P$. The wheel rotates about it's own center $O$. \n",
    "\n",
    "1. (5 pt) Write down the Lagrangian for this system.\n",
    "2. (5 pt) Find the equations of motion for $\\phi$ - be careful with $T$, check when $\\omega =0$\n",
    "3. (5 pt) Take the limit that the wheel rotates very slowly, and the radius of the wheel is quite small. Find the equations of motion for $\\phi$ in this limit. Describe the motion of the pendulum.\n",
    "4. (20 pt) Write (or reuse) a numerical code to solve the equations of motion for $\\phi$ for the general case. Plot the motion for at least 3 interesting cases that you find. Explain the motion of the pendulum in each case."
   ]
  },
  {
   "cell_type": "markdown",
   "id": "828fd56f",
   "metadata": {
    "editable": true
   },
   "source": [
    "### Extra Credit - Integrating Classwork With Research\n",
    "\n",
    "This opportunity will allow you to earn up to 5 extra credit points on a Homework per week. These points can push you above 100% or help make up for missed exercises.\n",
    "In order to earn all points you must:\n",
    "\n",
    "1. Attend an MSU research talk (recommended research oriented Clubs is  provided below)\n",
    "\n",
    "2. Summarize the talk using at least 150 words\n",
    "\n",
    "3. Turn in the summary along with your Homework.\n",
    "\n",
    "Approved talks:\n",
    "Talks given by researchers through the following clubs:\n",
    "* Research and Idea Sharing Enterprise (RAISE)​: Meets Wednesday Nights Society for Physics Students (SPS)​: Meets Monday Nights\n",
    "\n",
    "* Astronomy Club​: Meets Monday Nights\n",
    "\n",
    "* Facility For Rare Isotope Beam (FRIB) Seminars: ​Occur multiple times a week"
   ]
  },
  {
   "cell_type": "markdown",
   "id": "7daedeb1",
   "metadata": {},
   "source": []
  }
 ],
 "metadata": {
  "kernelspec": {
   "display_name": "Teaching",
   "language": "python",
   "name": "teaching"
  },
  "language_info": {
   "codemirror_mode": {
    "name": "ipython",
    "version": 3
   },
   "file_extension": ".py",
   "mimetype": "text/x-python",
   "name": "python",
   "nbconvert_exporter": "python",
   "pygments_lexer": "ipython3",
   "version": "3.12.0"
  }
 },
 "nbformat": 4,
 "nbformat_minor": 5
}
