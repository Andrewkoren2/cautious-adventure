{
 "cells": [
  {
   "cell_type": "markdown",
   "metadata": {},
   "source": [
    "# PHY 321 Final Exam - The Double Pendulum\n",
    "\n",
    "## By Andrew Koren"
   ]
  },
  {
   "cell_type": "markdown",
   "metadata": {},
   "source": [
    "The Double Pendulum was our classes first example of a non-analytical system. Up until that point, we had taken simple systems such as springs, objects flying through the air, and the classic, analytical pendulum and broken them down to equations of motion and parameterized paths. Then we stuck a pendulum to the pendulum.\n",
    "\n",
    "At first, it didn't look too far off from anything we've done before. In PHY 183 we connected springs to each other, so what's wrong with a pendulum? When the topic was introduced, we saw an animation that looked something like this:\n",
    "\n",
    "<IMG SRC=\"my stuff\\SS24\\Classical PHY 321\\doublepe.gif\"> [(from wolfram)](https://scienceworld.wolfram.com/physics/DoublePendulum.html)"
   ]
  },
  {
   "cell_type": "markdown",
   "metadata": {},
   "source": [
    "Yeah, that doesn't look like any function we've seen before. The difference between this path and the ones we'd seen up until then was that this one didn't look like it was made of sines and cosines, nor any polynomials or something that can be parameterized. Just by attaching a second pendulum, we go from analytical to 'what the heck is that?' \n",
    "\n",
    "This system doesn't have a ton of parts, no fancy potentials or oscillating drivers, but it is still very difficult to predict how it will behave. It's so simple that many other systems probably have one in it. Things like ropes, tree branches, limbs, and even inflatable-arm-waving-tube-man have two nodes with two angles at some point. One of the common examples I've seen is golf swings. Modeling the double-pendulum helps us understand all of these things.\n",
    "\n",
    "Considering these factors, I believe it is important to see what can be done to model the double pendulum: what can we predict from initial conditions, are there times where it is or isn't chaotic, and how effective is numerical modeling? This project will attempt to answer some of those questions"
   ]
  },
  {
   "cell_type": "markdown",
   "metadata": {},
   "source": [
    "Background\n",
    "\n",
    "The double pendulum, as well as the normal pendulum and many other systems like them, fall into the domain of classical mechanics. These systems are primarily dictated by the forces and dynamics we humans work with every day. The system can be understood as forces pushing and pulling on things, gaining and loosing energy, accelerating and decelerating as they travel through time and move through space. \n",
    "\n",
    "Newtonain mechanics describes such systems primarily through forces, such as gravitational force, and uses those to describe how the object moves. In the double-pendulum, the only forces pressent are gravity and the tension between each node of the pendulum. The net force on an object determine it's acceleration and, given some initial conditions, can describe how a system moves and behaves if known. Since the force of gravity is quite simple, understanding how the tension behaves as a function of position and time is all we need.\n",
    "\n",
    "Unlike gravity, the force of tension isn't as explicit as $F=-mg\\hat y$. It doesn't always pull down, but instead depends on the angle the nodes of the pendulum make with each other and the anchor. For another thing, what is it's strength? The forces in this situation must be derived from a constraint equation. Assuming the pendulum is rigid, it must always be true that the first node of the pendulum is some distance $l$ from its anchor, and the two nodes of the double pendulum are some length $l_2$ apart from each other. As such, the forces involved must be such that the two aren't allowed to separate any further than that distance. \n",
    "\n",
    "Considering that the forces in this problem are primarily dependant on the constraints put onto the system, it would be nice to use a form of classical mechanics that doesn't require everything to be translated to forces only to be translated back. This can be done using Lagrangian mechanics, which describes the world through the energies involved with positions and velocities in space. \n",
    "\n",
    "Lagrangaian mechanics are based around the Lagrangian $L$\n",
    "\n",
    "$$\n",
    "L = T - U\n",
    "$$\n",
    "\n",
    "\n",
    "\n"
   ]
  }
 ],
 "metadata": {
  "language_info": {
   "name": "python"
  }
 },
 "nbformat": 4,
 "nbformat_minor": 2
}
