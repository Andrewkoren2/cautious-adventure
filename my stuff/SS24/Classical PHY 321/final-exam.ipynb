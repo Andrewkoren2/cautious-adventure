{
 "cells": [
  {
   "cell_type": "markdown",
   "id": "b3238251",
   "metadata": {
    "editable": true
   },
   "source": [
    "<!-- HTML file automatically generated from DocOnce source (https://github.com/doconce/doconce/)\n",
    "doconce format html Firstmidterm2022.do.txt --no_mako -->\n",
    "<!-- dom:TITLE: PHY321: Classical Mechanics 1 -->"
   ]
  },
  {
   "cell_type": "markdown",
   "id": "6a9192af",
   "metadata": {
    "editable": true
   },
   "source": [
    "# Final Exam (Due Apr 26)\n",
    "\n",
    "Date: **15 Apr 24**"
   ]
  },
  {
   "cell_type": "markdown",
   "id": "c926dbcc",
   "metadata": {
    "editable": true
   },
   "source": [
    "## Introduction to the final exam project, total score 100 points\n",
    "\n",
    "This final exam is designed for you to show your understanding of the various physics and mathematical topics we have covered during the semester. The exam is graded with a score from 0 to 100 points and the expectations and their breakdown are outlined below. Note that this exam must be turned in by each student individually. We expect that you will work together on the project, but the completed write-up should represent your own work. Below, we outline the expectations for the project and how it will be graded.\n",
    "\n",
    "*We hope you feel confident in your being able to choose a system to study, but if you are unsure, please reach out to us for guidance ASAP.*\n",
    "\n",
    "### Practicalities about midterm projects\n",
    "\n",
    "You can work in groups (optimal groups are often 2-3 people) or by yourself. If you work as a group, you **must** hand in your own work. **Remember to write your name(s)** and indicate how each person contributed.\n",
    "\n",
    "**This project is due by 11:59 PM on Friday, April 26.**  It must be submitted as a Jupyter notebook and a PDF on D2L. Please make sure you meet the deadline because these must be graded before the final exam period is done so I can report your grade by Tuesday, April 30th at 5pm!\n"
   ]
  },
  {
   "cell_type": "markdown",
   "id": "5ce3d1bd",
   "metadata": {},
   "source": [
    "## Final Exam Project, total score 100 points\n",
    "\n",
    "You have learned about Newtonian and Lagrangian mechanics. We worked with projectile motion, oscillations, and constrained systems. You've explored ways of solving differential equations numerically and analytically. You've also learned about the conservation of energy and momentum, and how to apply these principles to solve problems. There's a lot of important physics that you have worked on and problems that you have solved. For the final exam project, you (and your group) will choose a system to analyze fully. You will prepare a narrative report (as a Jupyter notebook) that shows your work and explains your results. To provide structure to the final exam and to ensure you successfully demonstrate your understanding of the material, we have outlined the expectations for the project below.\n",
    "\n",
    "### Premise of the project:\n",
    "\n",
    "You and your group will choose a representative physical system for which you can write a Lagrangian or use Newton's Laws to describe the system. Ultimately, you will need to develop the equations of motion for this system. You will then need to explore the behavior of the system by solving these equations of motion analytically and numerically. You will need to interpret your results and provide a narrative that explains your work. You will need to demonstrate your understanding of the physics and mathematics involved in the system you choose. So you will need to answer questions about the physical properties of the system (e.g., momentum, energy, and angular momentum) and explain conditions where different behaviors arise. Think about the ways we've explored some of the more complex systems in class and how you addressed them with a variety of tools. You will need to do the same for your system. Of course, if you have any questions about what to do and how, just ask. We are here to help you!\n"
   ]
  },
  {
   "cell_type": "markdown",
   "id": "f712fc3d",
   "metadata": {},
   "source": [
    "### System characteristics:\n",
    "\n",
    "The physical systems you choose should have the following characteristics:\n",
    "* The system should be able to be described by a Lagrangian or using Newton's Laws. You should be able to develop the equations of motion for the system.\n",
    "* These equations of motion should be nonlinear and/or coupled differential equations. That is, it should require some exploration to understand the behavior of the system.\n",
    "* The system should have at least two spatial degrees of freedom. This means either that the system has two generalized coordinates or is described by at least two coupled differential equations.\n",
    "* The system should have a clear physical interpretation. That is, you should be able to explain the physical significance of the dynamics of the system. This should include concepts like energy, momentum, and angular momentum.\n",
    "* The system should have a clear solution. That is, you should be able to solve the equations of motion and interpret the results. This may require numerical solutions, but you should be able to explain the behavior of the system.\n",
    "* The system **should not** be a system we studied in class. That is, you should choose a system that is new to you. It is, of course, and likely expected that the system will produce motion we have analyzed in class (e.g., simple harmonic motion in some regime), but the system itself should be new to you.\n"
   ]
  },
  {
   "cell_type": "markdown",
   "id": "4af47d03",
   "metadata": {},
   "source": [
    "\n",
    "\n",
    "### Expectations for the project:\n",
    "\n",
    "We expect that every project that earns high marks will have the following components:\n",
    "\n",
    "1. **Introduction (10 points):** Clearly state the problem you are solving and why it is interesting. Provide a brief overview of the system, include figures and graphics to help illustrate the system. Animations are welcomed as well as references to important literature, experiments, historical context, etc.\n",
    "2. **The Theoretical Background and Model (20 points):** Clearly explain the theoretical background of the problem you are solving. How do we develop the equations of motion, that is, what theory and models are we drawing together to solve this problem. Is there anything important or that we should be aware of in this setup? You should provide the relevant equations of motion for the system. This is where we expect you to present the Lagrangian and Newtonian equations of motion for your system. Producing the equations of motion is the start of the rest of the project.\n",
    "3. **Methods and Analyses (20 points):** Clearly explain the methods you will use to investigate and solve the equations of motion. You should explain how you will solve these equations analytically and numerically. Here you should explain the methods we've used in class as they relate to your system. For example, what can we learn from pencil-and-paper work, how about graphing? Do you need to demonstrate some numerical experiments to illustrate your system? Here you should perform many of these calculations, analyses, and programming tasks. This is what produces the graphs and claims that follow.\n",
    "4. **Presentation of Results (20 points):** Clearly present the results of your analyses. Use graphs and animations as you need. Make sure figures are labeled and explained. The explanations of your results should discuss not only the figures, but the implications for the system in terms of the physics (e.g., conservation of energy, dissipation, different regimes of motion). This is where you should really provide a detailed interpretation of your results.\n",
    "5. **Discussion of Claims and Conclusions (20 points):** Clearly discuss your results in context. You should draw together everything you found into a series of claims - statements about the system that you can back up with evidence -- graphs, numerical experiments, and calculations. These claims are often more qualitative, pulling together several results into a statement. You should explain the physical significance of your results. You should also explain the limitations of your model and how you could improve it.\n",
    "6. **Style and Clarity (10 points):** Your project should be well-organized and clearly written. It should use regular headings and clear paragraphs that provide narrative for the physics and math you are doing. You should use proper grammar and spelling; run spell check, please. For equations, you can embed them in the text using $\\LaTeX$ or you can take photos of clearly written pencil-and-paper work and embed them as figures. Make sure you upload the figures if you do, and make sure the PDF has the figures in it.\n",
    "\n",
    "7. **Extra Credit (up to 20 points):** Develop a more interesting way of presenting your work. This could include a piece of art, a short story, a comic strip, a skit, a poem, a song, etc. Be creative and have fun with the extra credit. Physics should be fun! Attach it to the end of your project as a link or extra file.\n"
   ]
  },
  {
   "cell_type": "markdown",
   "id": "bedaa7aa",
   "metadata": {},
   "source": [
    "\n",
    "### How the project will be graded:\n",
    "\n",
    "In each of the categories above, you can earn up to the number of points listed. We will use the same 3-2-1 scoring method we've used all semester. We reserve the right to score a category as a 0 if it missing or truly inadequate, but we also reserve the right to score a category as a 3.5 if it is truly exceptional. To provide additional detail for each category in the 3-2-1 scheme, we have outlined the expectations for each score below.\n",
    "\n",
    "#### 3 points:\n",
    "\n",
    "1. Introduction: A high quality introduction will clearly state the problem and present it in a compelling and interesting way. It provides a clear overview of the context of the problem and leaves the reader excited to learn more about the system. It should be well-organized and clearly written. Using figures and graphics to help illustrate the system is a plus, but should be done judiciously as too many figures can be overwhelming.\n",
    "2. The Theoretical Background and Model: A high quality theoretical background will clearly explain the theory and models used to solve the problem. It will demonstrate the physics and math that sets up the model and problem and will provide the relevant simplifications and assumptions. It will be correct in it's physics and math and will provide the equations of motion for the system. There will be no skipped steps (beyond truly simple ones) or missing information.\n",
    "3. Methods and Analyses: A high quality methods and analyses section will clearly explain the methods used to investigate and solve the equations of motion. It will explain how the equations are solved analytically and numerically and why those approaches are being used.  It will perform a variety of these calculations, analyses, and programming tasks to investigate the system. It will produce the graphs and claims that follow from those analyses and calculations.\n",
    "4. Presentation of Results: A high quality presentation of results will clearly present the results of the analyses. It will use graphs and animations as needed and will make sure figures are labeled and explained. The explanations of the results will discuss not only the figures, but the implications for the system in terms of the physics. It will provide a detailed interpretation of the results.\n",
    "5. Discussion of Claims and Conclusions: A high quality discussion of claims and conclusions will clearly discuss the results in context. It will draw together everything found into a series of claims. It will explain the physical significance of the results and the limitations of the model and how it could be improved. It will provide a detailed interpretation of the results.\n",
    "6. Style and Clarity: A high quality project will be well-organized and clearly written. It will use regular headings and clear paragraphs that provide narrative for the physics and math. It will use proper grammar and spelling. It will be able to read a single document and understood without needing to ask the author for clarification. It will be easy to follow and well documented.\n",
    "\n",
    "#### 2 points:\n",
    "\n",
    "1. Introduction: A satisfactory introduction will state the problem and present it in an interesting way. It provides an overview of the context of the problem. It might be well-organized and clearly written, but might have some improvements in these areas. Unclear figures or an overuse of figures might be present.\n",
    "2. The Theoretical Background and Model: A satisfactory theoretical background will explain the theory and models used to solve the problem. It will demonstrate the physics and math that sets up the model and problem and will provide the relevant simplifications and assumptions. It will be mostly correct in it's physics and math and will provide the equations of motion for the system. There might be skipped steps or missing information.\n",
    "3. Methods and Analyses: A satisfactory methods and analyses section will explain the methods used to investigate and solve the equations of motion. It will explain how the equations are solved analytically and numerically and why those approaches are being used. It might be slightly incorrect or confused in both. It will perform some of these calculations, analyses, and programming tasks to investigate the system; perhaps, not a wide variety. It will produce some of the graphs and claims that might follow from those analyses and calculations.\n",
    "4. Presentation of Results: A satisfactory presentation of results will present the results of the analyses. It will use graphs and animations as needed and will make sure figures are labeled and explained. The explanations of the results will discuss the figures, but might not provide a detailed interpretation of the results.\n",
    "5. Discussion of Claims and Conclusions: A satisfactory discussion of claims and conclusions will discuss the results in context. It will draw together everything found into a series of claims. It will explain the physical significance of the results and the limitations of the model and how it could be improved. It might not provide a detailed interpretation of the results.\n",
    "6. Style and Clarity: A satisfactory project will be mostly well-organized and clearly written. It will tend to use regular headings and clear paragraphs that provide narrative for the physics and math. It will use proper grammar and spelling. There might be some minor issues reading it as a single document and/or understanding it without needing to ask the author for clarification. It will be fairly easy to follow.\n",
    "\n",
    "#### 1 point:\n",
    "\n",
    "1. Introduction: An unsatisfactory introduction will be missing two or more of the following: a clear statement of the problem, an interesting presentation of the problem, an overview of the context of the problem, or a well-organized and clearly written introduction. It might be missing figures or have figures that are unclear or unhelpful.\n",
    "2. The Theoretical Background and Model: An unsatisfactory theoretical background will be missing two or more of the following: an explanation of the theory and models used to solve the problem, a demonstration of the physics and math that sets up the model and problem, the relevant simplifications and assumptions, or the equations of motion for the system. It might be mostly incorrect in it's physics and math and will have skipped steps or missing information.\n",
    "3. Methods and Analyses: An unsatisfactory methods and analyses section will be missing two or more of the following: an explanation of the methods used to investigate and solve the equations of motion, an explanation of how the equations are solved analytically and numerically and why those approaches are being used, the performance of some of these calculations, analyses, and programming tasks to investigate the system, or the production of some of the graphs and claims that might follow from those analyses and calculations. It might be mostly incorrect or confused in both.\n",
    "4. Presentation of Results: An unsatisfactory presentation of results will be missing two or more of the following: the presentation of the results of the analyses, the use of graphs and animations as needed, the labeling and explanation of figures, or the discussion of the implications for the system in terms of the physics. It will likely not provide a detailed interpretation of the results.\n",
    "5. Discussion of Claims and Conclusions: An unsatisfactory discussion of claims and conclusions will be missing two or more of the following: a discussion of the results in context, a drawing together of everything found into a series of claims, an explanation of the physical significance of the results, the limitations of the model and how it could be improved, or a detailed interpretation of the results. The discussion might be mostly incorrect or confused.\n",
    "6. Style and Clarity: An unsatisfactory project will be missing two or more of the following: regular headings and clear paragraphs that provide narrative for the physics and math, proper grammar and spelling, or the ability to read a single document and understood without needing to ask the author for clarification. It will be difficult to follow and poorly documented.\n",
    "\n",
    "#### 0 points:\n",
    "\n",
    "For any category that is missing or truly inadequate, a score of 0 will be given. This is reserved for work that is not turned in, is missing large sections, or is so poorly done that it is impossible to grade."
   ]
  }
 ],
 "metadata": {
  "language_info": {
   "name": "python"
  }
 },
 "nbformat": 4,
 "nbformat_minor": 5
}
