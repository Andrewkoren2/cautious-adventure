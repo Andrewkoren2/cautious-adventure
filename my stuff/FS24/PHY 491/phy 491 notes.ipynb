{
 "cells": [
  {
   "cell_type": "markdown",
   "metadata": {},
   "source": [
    "# Phy 491 - Condensed Matter Physics\n",
    "building from the bottom up"
   ]
  },
  {
   "cell_type": "markdown",
   "metadata": {},
   "source": [
    "Reading: Mcintyre 7, 8, (9)"
   ]
  },
  {
   "cell_type": "markdown",
   "metadata": {},
   "source": [
    "1. The hydrogen atom\n",
    "\n",
    "Since the quantum is too complicated to be fun, we'll use center of mass coordinates\n",
    "\n",
    "$$\n",
    "\\vec x = \\dfrac{m_e \\vec{x}_e + m_n \\vec{x}_n}{m_e+m_n} \\quad \\text{center of mass} \\\\\n",
    "\\vec r = \\vec x_e - \\vec x_n \\quad \\text{electron mass is small}\n",
    "$$\n",
    "\n",
    "\n",
    "Note: it's so complicated, I don't even want to type. Add details showing the quantum mechanics here once the notes are released"
   ]
  },
  {
   "cell_type": "markdown",
   "metadata": {},
   "source": [
    "$$\n",
    "\\frac{\\partial}{\\partial\\vec x_e} =\\frac{\\partial\\vec x}{\\partial\\vec x_e} \\frac{\\partial}{\\partial\\vec x} + \\frac{\\partial\\vec r}{\\partial\\vec x_e} \\frac{\\partial}{\\partial\\vec r} \\\\\n",
    "\n",
    "= \\frac{m_e}{m_e + m_n} \\frac{\\partial}{\\partial\\vec x} + \\frac{\\partial}{\\partial\\vec r}\n",
    "$$\n",
    "\n",
    "$$\n",
    "\\nabla_{x_e}^2 = \\left( \\frac{m_e}{m_e+m_n} \\right)^2 \\nabla_{x}^2 + \\nabla_{r}^2 + \\frac{2m_n}{m_e+m_n}\\frac{\\partial ^2}{\\partial \\vec x \\partial \\vec r}\n",
    "$$\n",
    "\n",
    "Too slow. Again, gotta come back when notes are out\n",
    "\n",
    "$$\n",
    "\\nabla_{x_n}^2 = \\left( \\frac{m_n}{m_e+m_n} \\right)^2 \\nabla_{x}^2 + \\nabla_{r}^2 - \\frac{2m_n}{m_e+m_n}\\frac{\\partial ^2}{\\partial \\vec x \\partial \\vec r}\n",
    "\n",
    "$$"
   ]
  },
  {
   "cell_type": "markdown",
   "metadata": {},
   "source": [
    "$$\n",
    "\n",
    "\\frac{1}{m_e} \\nabla_{x_e}^2 + \\frac{1}{m_n}\\nabla_{x_n}^2 \\\\\n",
    "= \\frac{m_e+m_n}{\\left(m_e+m_n\\right)^2} \\nabla_x^2 + \\left(\\frac{1}{m_e} +  \\frac{1}{m_n}\\right)\\nabla_r^2 \\\\\n",
    "= \\frac{1}{m_e+m_n}\\nabla_x^2+\\frac{1}{\\mu} \\nabla_r^2\n",
    "$$\n",
    "Reduced mass helps keep clutter out of equations. I think that refers to $\\mu = \\frac{1}{m_e}+\\frac{1}{m_n}$"
   ]
  },
  {
   "cell_type": "markdown",
   "metadata": {},
   "source": [
    "The new hamiltonian H is\n",
    "\n",
    "$$\n",
    "H = -\\frac{\\hbar^2}{2(m_e+m_n)}\\nabla_x^2-\\frac{\\hbar^2}{2\\mu}\\nabla_r^2-\\frac{ze^2}{4\\pi \\epsilon_o |\\vec r|} \\\\\n",
    "\\quad \\quad H_k \\hspace{2cm} H_r\n",
    "$$\n",
    "\n",
    "We find $H$, $H_k$, and $H_r$ all commute. We remember that there's a complete set of mutual eigenstates shared between the three."
   ]
  },
  {
   "cell_type": "markdown",
   "metadata": {},
   "source": [
    "$H_k$ is the kinetic energy of the free particle (the hydrogen atom in space)\n",
    "\n",
    "$H_r$ describes how the energy of the system changes with the separation of the proton and electron."
   ]
  },
  {
   "cell_type": "markdown",
   "metadata": {},
   "source": [
    "$H_r |E_r \\rangle = E_r |E_r \\rangle$ -see mcintyre\n",
    "\n",
    "$$-\\nabla_r^2 = \\frac{P_r^2}{\\hbar^2}+\\frac{L^2}{r^2} \\\\ \\text{radial KE and tangential KE}$$\n",
    "\n",
    "$P_r =-i \\hbar \\left(\\frac{\\partial}{\\partial r} + \\frac{1}{r}\\right)$ from 471"
   ]
  }
 ],
 "metadata": {
  "kernelspec": {
   "display_name": "Python 3",
   "language": "python",
   "name": "python3"
  },
  "language_info": {
   "codemirror_mode": {
    "name": "ipython",
    "version": 3
   },
   "file_extension": ".py",
   "mimetype": "text/x-python",
   "name": "python",
   "nbconvert_exporter": "python",
   "pygments_lexer": "ipython3",
   "version": "3.11.9"
  }
 },
 "nbformat": 4,
 "nbformat_minor": 2
}
