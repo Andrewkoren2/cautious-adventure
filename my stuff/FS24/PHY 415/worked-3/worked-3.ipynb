{
 "cells": [
  {
   "cell_type": "markdown",
   "metadata": {},
   "source": [
    "# Phy 415 - Worked Problem #3 - Andrew Koren\n",
    "\n",
    "As we learn new tools to model systems, both analytical and numerical, we're able to relax the assumptions and constraints of our system and make models for more realistic situations. In this worked problem, we'll develop a model"
   ]
  },
  {
   "cell_type": "code",
   "execution_count": null,
   "metadata": {},
   "outputs": [],
   "source": []
  }
 ],
 "metadata": {
  "language_info": {
   "name": "python"
  }
 },
 "nbformat": 4,
 "nbformat_minor": 2
}
