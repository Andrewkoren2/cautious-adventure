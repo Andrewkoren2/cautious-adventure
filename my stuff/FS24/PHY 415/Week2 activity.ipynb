{
 "cells": [
  {
   "cell_type": "markdown",
   "metadata": {},
   "source": [
    "# Week 2"
   ]
  },
  {
   "cell_type": "markdown",
   "metadata": {},
   "source": [
    "## Activity 1"
   ]
  },
  {
   "cell_type": "markdown",
   "metadata": {},
   "source": [
    "### Part 1: SHO"
   ]
  },
  {
   "cell_type": "markdown",
   "metadata": {},
   "source": [
    "1D energy of a SHO\n",
    "\n",
    "Kinetic energy $T = \\frac{1}{2}mv^2 = \\frac{1}{2}m\\dot x^2$\n",
    "\n",
    "Potential energy of a spring $V=\\frac{1}{2}k\\left(\\Delta x\\right)^2= \\frac{1}{2}k\\left(x-x_0\\right)^2 $\n",
    "\n",
    "$$\n",
    "\\mathcal{L} = T - V = \\frac{1}{2}m\\dot x^2-\\frac{1}{2}k\\left(x-x_0\\right)^2  \\\\\n",
    "\n",
    "\\frac{d}{dt} \\frac{\\partial L}{\\partial \\dot x} - \\frac{\\partial L}{\\partial x} = 0\n",
    "$$\n",
    "Which we need some partials for\n",
    "\n",
    "$$\n",
    "\\frac{\\partial L}{\\partial \\dot x} = m \\dot x \\\\\n",
    "\\frac{d}{dt} \\frac{\\partial L}{\\partial \\dot x} = m \\ddot x \\\\\n",
    "\\frac{\\partial L}{\\partial x} + k \\left(x - x_0\\right) = 0 \\\\\n",
    "m\\ddot{x} = -k \\left(x - x_0\\right)\n",
    "$$\n",
    "\n",
    "Not too sure how to do $x_0$"
   ]
  },
  {
   "cell_type": "markdown",
   "metadata": {},
   "source": [
    "Canonial Coupled Oscillator\n",
    "\n",
    "1. What's the energy equation for the system?\n",
    "Idk, I'll guess\n",
    "\n",
    "$$\n",
    "E = PE_{k1} + PE_{k2} + PE_{k'} + KE_{x1} + KE_{x2}\n",
    "$$\n",
    "\n",
    "2. The lagrangian\n",
    "\n",
    "Kinetic energy is a sum of two kinetic energies. I don't want to do anything weird until I hit a dead end, so I'll just go for it\n",
    "\n",
    "$$\n",
    "T = \\frac{1}{2}m\\dot x_1^2 + \\frac{1}{2}m\\dot x_2^2 \\\\\n",
    "$$\n",
    "\n",
    "For potential, let the total length be $L,$ then\n",
    "\n",
    "$$\n",
    "V = \\frac{1}{2}kx_1^2 + \\frac{1}{2}k\\left(x_2 - L \\right)^2 + \\frac{1}{2}k'(x_2 - x_1)^2\n",
    "$$\n",
    "\n",
    "$$\n",
    "\\mathcal{L} = T-V = \\frac{1}{2}m\\dot x_1^2 + \\frac{1}{2}m\\dot x_2^2 - \\frac{1}{2}kx_1^2 - \\frac{1}{2}k\\left(x_2 - L \\right)^2 - \\frac{1}{2}k'(x_2 - x_1)^2\n",
    "$$\n",
    "Unsimplified cuz derivatives"
   ]
  }
 ],
 "metadata": {
  "language_info": {
   "name": "python"
  }
 },
 "nbformat": 4,
 "nbformat_minor": 2
}
