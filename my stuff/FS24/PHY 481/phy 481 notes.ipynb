{
 "cells": [
  {
   "cell_type": "markdown",
   "metadata": {},
   "source": [
    "# Phy 481 - Electrodynamics"
   ]
  },
  {
   "attachments": {
    "image.png": {
     "image/png": "[encoded data removed]"
    }
   },
   "cell_type": "markdown",
   "metadata": {},
   "source": [
    "![image.png](attachment:image.png)\n",
    "\n",
    "$$\n",
    "A \\times B = \\left| \\begin{matrix} \\hat x & \\hat y & \\hat z \\\\ A_x & A_y & A_z \\\\ B_x & B_y & B_z\\end{matrix} \\right|\n",
    "$$"
   ]
  },
  {
   "cell_type": "markdown",
   "metadata": {},
   "source": [
    "The Fundamental Theorem for Gradients\n",
    "\n",
    "$$\n",
    "\\int_{\\vec a}^{\\vec b} \\left( \\vec \\nabla V \\right) \\cdot d \\vec l = V(\\vec b) - V(\\vec a)\n",
    "$$\n",
    "\n",
    "This is because the potential of a scalar is a vector, and the path integral just goes from A to B, and potential is path independent."
   ]
  },
  {
   "cell_type": "markdown",
   "metadata": {},
   "source": [
    "How do we do the path integral?\n",
    "\n",
    "$$\n",
    "\\oint \\vec E \\cdot d\\vec l \\text{ bounded by} \\\\\n",
    "\\left\\{(x,y): 0 \\leq x \\leq 1, 2 \\leq y \\leq 2x \\right\\}\\\\\n",
    "\\text{where } \\vec E = (x^2 - y^2)\\hat x + 2xy \\hat y\\\\\n",
    "d\\vec l = d x \\hat x + dy \\hat y\n",
    "\n",
    "$$"
   ]
  }
 ],
 "metadata": {
  "kernelspec": {
   "display_name": "Python 3",
   "language": "python",
   "name": "python3"
  },
  "language_info": {
   "name": "python",
   "version": "3.11.9"
  }
 },
 "nbformat": 4,
 "nbformat_minor": 2
}
