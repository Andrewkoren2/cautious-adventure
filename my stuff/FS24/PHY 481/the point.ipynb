{
 "cells": [
  {
   "cell_type": "markdown",
   "metadata": {},
   "source": [
    "# So, whats the point of all of this?"
   ]
  },
  {
   "cell_type": "markdown",
   "metadata": {},
   "source": [
    "So far in this semester we've studied electrostatics. We're dealing with a variety of problems with varying amounts of symmetry and complexity.\n",
    "\n",
    "The tools I know best: Gaussian surfaces, electric field integrals $\\mathcal{R}$, line integrals, etc.\n",
    "\n",
    "The tools I don't know as weel: Potential.\n",
    "\n",
    "I'm weaker in some tools, but I'm especially weak in knowing what systems we'll be working with. I only know the basic cylinders, spheres, lines, etc., but what about more complicated surfaces? Let's get some situations together and describe when tools are best used"
   ]
  },
  {
   "cell_type": "markdown",
   "metadata": {},
   "source": [
    "Simple integrals: the path/shape can be encoded in the integral bounds. Relate x to y, $\\theta$ to $\\rho$, whatever This is often called the \"brute force\" method. Make $\\mathcal{R}$ and use $E = \\frac{kq}{\\mathcal{R}^2} \\hat{\\mathcal{R}} \\rightarrow E = k\\int_S \\frac{\\sigma}{\\mathcal{R}^2} dA$\n",
    "\n",
    "Situation: Ring charge, evil cube, etc. Usually we don't need to solve the integral if brute force is the only option.\n",
    "\n",
    "\n",
    "\n",
    "Gaussian surfaces: great for converting from charge density to electric field, vise versa.\n",
    "\n",
    "$$\n",
    "\\oint E \\cdot da = q_{enc} \\\\\n",
    "\\nabla \\cdot E = \\frac{\\rho}{\\epsilon_0}\n",
    "$$\n",
    "\n",
    "Situation: Spherical charges,  cylinders, any situation with simple shapes\n"
   ]
  },
  {
   "cell_type": "markdown",
   "metadata": {},
   "source": [
    "Discontinuity. We can find the charge density of a surface, etc by observing the electric field discontinuity"
   ]
  }
 ],
 "metadata": {
  "language_info": {
   "name": "python"
  }
 },
 "nbformat": 4,
 "nbformat_minor": 2
}
