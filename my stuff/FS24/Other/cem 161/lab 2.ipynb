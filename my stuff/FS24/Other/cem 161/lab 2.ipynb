{
 "cells": [
  {
   "cell_type": "markdown",
   "metadata": {},
   "source": [
    "Lab 2. Sorting Comercial Plastics"
   ]
  },
  {
   "cell_type": "markdown",
   "metadata": {},
   "source": [
    "Stock solutions have known concentrations and volume may be chosen freely via measurement.\n",
    "\n",
    "To find dilted concentration, use \n",
    "\n",
    "$$\n",
    "M_1 V_1 = M_2 V_2 \\\\\n",
    "M_2 = M_1 \\frac{V_1}{V_2} \\\\\n",
    "M_2 = 1 * \\frac{20}{25} = 0.8\n",
    "$$"
   ]
  },
  {
   "cell_type": "code",
   "execution_count": 1,
   "metadata": {},
   "outputs": [
    {
     "data": {
      "text/plain": [
       "0.8"
      ]
     },
     "execution_count": 1,
     "metadata": {},
     "output_type": "execute_result"
    }
   ],
   "source": [
    "import numpy as np\n",
    "\n",
    "def final_concentration(final_vol, imol, ivol):\n",
    "    return imol * ivol / final_vol\n",
    "\n"
   ]
  },
  {
   "cell_type": "markdown",
   "metadata": {},
   "source": [
    "|   Item    |    Quantity   | Hazards | Handling / Disposal/Storage |\n",
    "| ---   |   ---  | --- | --- |\n",
    "|Beaker | 2 |  Don't drop glass | clean and return\n",
    "|Scale | 1 | Avoid spilling water | does not move\n",
    "|Graduated Cylinder | 2 |Don't drop glass| clean and return\n",
    "|Pippet| 2 | Don't drop glass| clean and return\n",
    "|Stir rod| 2 | Don't drop glass|clean and return\n",
    "|4M Sodium Chloride | 50 ml | Eye irritant | landfill/sink |\n",
    "|Water | as needed| None | disposed of using sink |\n",
    "|ethanol mixture | 50ml | Eye/Skin Irritant, Inhalation Hazard, Dangerous | sink  |\n"
   ]
  },
  {
   "cell_type": "markdown",
   "metadata": {},
   "source": [
    "| Andrew | Brett | Jake | Nick |\n",
    "| --- | --- | --- | --- |\n",
    "| Help setup | Gather supplies  | Check procedure & safety | gather supplies\n",
    "| gather solutions into beakers | mix water and solution to get densities | help measure mixtures | mix solutions to proper densities |\n",
    "| record measurements / observations | perform plastic density experiment | perform plastic density experiment |  mix new solution\n",
    "| organize data into table | continue sink/float experiment | continue sink/float experiment | record observations\n",
    "| help setup displacement experiment | cleanup supplies | gather water | cleanup supplies |\n",
    "| record mixture/material data | Collect solutions in beaker | measure and mix solution | assistin following procedure\n",
    "| record density results  | get plastic masses | get plastic volume | convert mass/volume to density |\n",
    "| perform spectroscopic experiment | record spectroscopic information | make observations | perform spectroscopic experiment\n",
    "| record and organize data | perform calculations | analyze results | make analysis and conclusion"
   ]
  },
  {
   "cell_type": "markdown",
   "metadata": {},
   "source": []
  }
 ],
 "metadata": {
  "kernelspec": {
   "display_name": ".venv",
   "language": "python",
   "name": "python3"
  },
  "language_info": {
   "codemirror_mode": {
    "name": "ipython",
    "version": 3
   },
   "file_extension": ".py",
   "mimetype": "text/x-python",
   "name": "python",
   "nbconvert_exporter": "python",
   "pygments_lexer": "ipython3",
   "version": "3.11.9"
  }
 },
 "nbformat": 4,
 "nbformat_minor": 2
}
