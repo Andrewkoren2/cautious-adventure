{
 "cells": [
  {
   "cell_type": "markdown",
   "metadata": {},
   "source": [
    "Lab 2. Sorting Comercial Plastics"
   ]
  },
  {
   "cell_type": "markdown",
   "metadata": {},
   "source": [
    "Stock solutions have known concentrations and volume may be chosen freely via measurement.\n",
    "\n",
    "To find dilted concentration, use \n",
    "\n",
    "$$\n",
    "M_1 V_1 = M_2 V_2 \\\\\n",
    "M_2 = M_1 \\frac{V_1}{V_2} \\\\\n",
    "M_2 = 1 * \\frac{20}{25} = 0.8\n",
    "$$"
   ]
  },
  {
   "cell_type": "code",
   "execution_count": 1,
   "metadata": {},
   "outputs": [
    {
     "data": {
      "text/plain": [
       "0.8"
      ]
     },
     "execution_count": 1,
     "metadata": {},
     "output_type": "execute_result"
    }
   ],
   "source": [
    "import numpy as np\n",
    "\n",
    "def final_concentration(final_vol, imol, ivol):\n",
    "    return imol * ivol / final_vol\n",
    "\n"
   ]
  },
  {
   "cell_type": "markdown",
   "metadata": {},
   "source": [
    "|   Item    |    Quantity   | Hazards | Handling / Disposal/Storage |\n",
    "| ---   |   ---  | --- | --- |\n",
    "|Beaker | 2 |  Don't drop glass | clean and return\n",
    "|Scale | 1 | Avoid spilling water | does not move\n",
    "|Graduated Cylinder | 2 |Don't drop glass| clean and return\n",
    "|Pippet| 2 | Don't drop glass| clean and return\n",
    "|Stir rod| 2 | Don't drop glass|clean and return\n",
    "|4M Sodium Chloride | 50 ml | Eye irritant | landfill/sink |\n",
    "|Water | as needed| None | disposed of using sink |\n",
    "|ethanol mixture | 50ml | Eye/Skin Irritant, Inhalation Hazard, Dangerous | sink  |\n"
   ]
  },
  {
   "cell_type": "markdown",
   "metadata": {},
   "source": [
    "| Andrew | Brett | Jake | Nick |\n",
    "| --- | --- | --- | --- |\n",
    "| Help setup | Gather supplies  | Check procedure & safety | gather supplies\n",
    "| gather solutions into beakers | mix water and solution to get densities | help measure mixtures | mix solutions to proper densities |\n",
    "| record measurements / observations | perform plastic density experiment | perform plastic density experiment |  mix new solution\n",
    "| organize data into table | continue sink/float experiment | continue sink/float experiment | record observations\n",
    "| help setup displacement experiment | cleanup supplies | gather water | cleanup supplies |\n",
    "| record mixture/material data | Collect solutions in beaker | measure and mix solution | assistin following procedure\n",
    "| record density results  | get plastic masses | get plastic volume | convert mass/volume to density |\n",
    "| perform spectroscopic experiment | record spectroscopic information | make observations | perform spectroscopic experiment\n",
    "| record and organize data | perform calculations | analyze results | make analysis and conclusion"
   ]
  },
  {
   "cell_type": "code",
   "execution_count": 49,
   "metadata": {},
   "outputs": [
    {
     "data": {
      "text/html": [
       "<div>\n",
       "<style scoped>\n",
       "    .dataframe tbody tr th:only-of-type {\n",
       "        vertical-align: middle;\n",
       "    }\n",
       "\n",
       "    .dataframe tbody tr th {\n",
       "        vertical-align: top;\n",
       "    }\n",
       "\n",
       "    .dataframe thead th {\n",
       "        text-align: right;\n",
       "    }\n",
       "</style>\n",
       "<table border=\"1\" class=\"dataframe\">\n",
       "  <thead>\n",
       "    <tr style=\"text-align: right;\">\n",
       "      <th></th>\n",
       "      <th>Test num</th>\n",
       "      <th>solution</th>\n",
       "      <th>density (calculated)</th>\n",
       "      <th>p1</th>\n",
       "      <th>p2</th>\n",
       "      <th>p3</th>\n",
       "      <th>p4</th>\n",
       "      <th>p5</th>\n",
       "      <th>p6</th>\n",
       "    </tr>\n",
       "  </thead>\n",
       "  <tbody>\n",
       "    <tr>\n",
       "      <th>0</th>\n",
       "      <td>1</td>\n",
       "      <td>Water</td>\n",
       "      <td>1.0000</td>\n",
       "      <td>sink</td>\n",
       "      <td>sink</td>\n",
       "      <td>sink</td>\n",
       "      <td>float</td>\n",
       "      <td>float</td>\n",
       "      <td>sink</td>\n",
       "    </tr>\n",
       "    <tr>\n",
       "      <th>1</th>\n",
       "      <td>2</td>\n",
       "      <td>50/50 water/ethanol</td>\n",
       "      <td>0.9100</td>\n",
       "      <td>sink</td>\n",
       "      <td>sink</td>\n",
       "      <td>sink</td>\n",
       "      <td>sink</td>\n",
       "      <td>float</td>\n",
       "      <td>sink</td>\n",
       "    </tr>\n",
       "    <tr>\n",
       "      <th>2</th>\n",
       "      <td>3</td>\n",
       "      <td>5:20 Solution:water</td>\n",
       "      <td>1.0464</td>\n",
       "      <td>sink</td>\n",
       "      <td>sink</td>\n",
       "      <td>sink</td>\n",
       "      <td>float</td>\n",
       "      <td>float</td>\n",
       "      <td>sink</td>\n",
       "    </tr>\n",
       "    <tr>\n",
       "      <th>3</th>\n",
       "      <td>4</td>\n",
       "      <td>10:15 Solution:water</td>\n",
       "      <td>1.0928</td>\n",
       "      <td>sink</td>\n",
       "      <td>sink</td>\n",
       "      <td>sink</td>\n",
       "      <td>float</td>\n",
       "      <td>float</td>\n",
       "      <td>sink</td>\n",
       "    </tr>\n",
       "    <tr>\n",
       "      <th>4</th>\n",
       "      <td>5</td>\n",
       "      <td>15:10 Solution:water</td>\n",
       "      <td>1.1392</td>\n",
       "      <td>sink</td>\n",
       "      <td>sink</td>\n",
       "      <td>sink</td>\n",
       "      <td>float</td>\n",
       "      <td>float</td>\n",
       "      <td>sink</td>\n",
       "    </tr>\n",
       "  </tbody>\n",
       "</table>\n",
       "</div>"
      ],
      "text/plain": [
       "  Test num              solution  density (calculated)    p1    p2    p3  \\\n",
       "0        1                 Water                1.0000  sink  sink  sink   \n",
       "1        2   50/50 water/ethanol                0.9100  sink  sink  sink   \n",
       "2        3   5:20 Solution:water                1.0464  sink  sink  sink   \n",
       "3        4  10:15 Solution:water                1.0928  sink  sink  sink   \n",
       "4        5  15:10 Solution:water                1.1392  sink  sink  sink   \n",
       "\n",
       "      p4     p5    p6  \n",
       "0  float  float  sink  \n",
       "1   sink  float  sink  \n",
       "2  float  float  sink  \n",
       "3  float  float  sink  \n",
       "4  float  float  sink  "
      ]
     },
     "execution_count": 49,
     "metadata": {},
     "output_type": "execute_result"
    }
   ],
   "source": [
    "import pandas as pd\n",
    "\n",
    "water_density = 1.0 #g/ml\n",
    "sodium_chloride_density = 2.17 #g/ml\n",
    "ethanol_density = 0.79 #g/ml\n",
    "\n",
    "sodium_g_mol = 58 #g/mol\n",
    "\n",
    "water_ethanol_50_50 = 0.91\n",
    "\n",
    "Water_4M_NaCl = (water_density*1000+4*sodium_g_mol)/1000\n",
    "\n",
    "solution = Water_4M_NaCl\n",
    "\n",
    "water_solution_5_20 = (5*solution + 20 * water_density)/25\n",
    "\n",
    "water_solution_10_15 = (10*solution + 15* water_density)/25\n",
    "\n",
    "water_solution_15_10 = (15*solution + 10* water_density)/25\n",
    "\n",
    "\n",
    "df = pd.DataFrame(columns=['Test num', 'solution', 'density (calculated)', 'p1', 'p2', 'p3', 'p4', 'p5', 'p6'])\n",
    "df.loc[len(df)] = ['1', 'Water', water_density, 'sink', 'sink', 'sink', 'float', 'float', 'sink']\n",
    "df.loc[len(df)] = ['2', '50/50 water/ethanol', water_ethanol_50_50, 'sink', 'sink', 'sink', 'sink', 'float', 'sink']\n",
    "df.loc[len(df)] = ['3', '5:20 Solution:water', water_solution_5_20, 'sink', 'sink', 'sink', 'float', 'float', 'sink']\n",
    "df.loc[len(df)] = ['4', '10:15 Solution:water', water_solution_10_15, 'sink', 'sink', 'sink', 'float', 'float', 'sink']\n",
    "df.loc[len(df)] = ['5', '15:10 Solution:water', water_solution_15_10, 'sink', 'sink', 'sink', 'float', 'float', 'sink']\n",
    "\n",
    "df"
   ]
  },
  {
   "cell_type": "code",
   "execution_count": 42,
   "metadata": {},
   "outputs": [
    {
     "data": {
      "text/plain": [
       "1.232"
      ]
     },
     "execution_count": 42,
     "metadata": {},
     "output_type": "execute_result"
    }
   ],
   "source": [
    "solution"
   ]
  },
  {
   "cell_type": "code",
   "execution_count": 59,
   "metadata": {},
   "outputs": [
    {
     "data": {
      "text/html": [
       "<div>\n",
       "<style scoped>\n",
       "    .dataframe tbody tr th:only-of-type {\n",
       "        vertical-align: middle;\n",
       "    }\n",
       "\n",
       "    .dataframe tbody tr th {\n",
       "        vertical-align: top;\n",
       "    }\n",
       "\n",
       "    .dataframe thead th {\n",
       "        text-align: right;\n",
       "    }\n",
       "</style>\n",
       "<table border=\"1\" class=\"dataframe\">\n",
       "  <thead>\n",
       "    <tr style=\"text-align: right;\">\n",
       "      <th></th>\n",
       "      <th>Plastic</th>\n",
       "      <th>Weight (g)</th>\n",
       "      <th>Volume (mL)</th>\n",
       "      <th>Density (g/ml)</th>\n",
       "    </tr>\n",
       "  </thead>\n",
       "  <tbody>\n",
       "    <tr>\n",
       "      <th>0</th>\n",
       "      <td>1.0</td>\n",
       "      <td>1.125</td>\n",
       "      <td>0.9</td>\n",
       "      <td>1.250000</td>\n",
       "    </tr>\n",
       "    <tr>\n",
       "      <th>1</th>\n",
       "      <td>2.0</td>\n",
       "      <td>1.031</td>\n",
       "      <td>0.9</td>\n",
       "      <td>1.145556</td>\n",
       "    </tr>\n",
       "    <tr>\n",
       "      <th>2</th>\n",
       "      <td>3.0</td>\n",
       "      <td>1.104</td>\n",
       "      <td>0.8</td>\n",
       "      <td>1.380000</td>\n",
       "    </tr>\n",
       "    <tr>\n",
       "      <th>3</th>\n",
       "      <td>4.0</td>\n",
       "      <td>0.781</td>\n",
       "      <td>0.8</td>\n",
       "      <td>0.976250</td>\n",
       "    </tr>\n",
       "    <tr>\n",
       "      <th>4</th>\n",
       "      <td>5.0</td>\n",
       "      <td>0.821</td>\n",
       "      <td>0.9</td>\n",
       "      <td>0.912222</td>\n",
       "    </tr>\n",
       "    <tr>\n",
       "      <th>5</th>\n",
       "      <td>5.0</td>\n",
       "      <td>0.936</td>\n",
       "      <td>0.8</td>\n",
       "      <td>1.170000</td>\n",
       "    </tr>\n",
       "  </tbody>\n",
       "</table>\n",
       "</div>"
      ],
      "text/plain": [
       "   Plastic  Weight (g)  Volume (mL)  Density (g/ml)\n",
       "0      1.0       1.125          0.9        1.250000\n",
       "1      2.0       1.031          0.9        1.145556\n",
       "2      3.0       1.104          0.8        1.380000\n",
       "3      4.0       0.781          0.8        0.976250\n",
       "4      5.0       0.821          0.9        0.912222\n",
       "5      5.0       0.936          0.8        1.170000"
      ]
     },
     "execution_count": 59,
     "metadata": {},
     "output_type": "execute_result"
    }
   ],
   "source": [
    "df = pd.DataFrame(columns=['Plastic', 'Weight (g)', 'Volume (mL)'])\n",
    "df.loc[len(df)] = [1, 1.125, 0.9]\n",
    "df.loc[len(df)] = [2, 1.031, 0.9]\n",
    "df.loc[len(df)] = [3, 1.104, 0.8]\n",
    "df.loc[len(df)] = [4, 0.781, 0.8]\n",
    "df.loc[len(df)] = [5, 0.821, 0.9]\n",
    "df.loc[len(df)] = [5, 0.936, 0.8]\n",
    "\n",
    "df['Density (g/ml)'] = df['Weight (g)'] / df['Volume (mL)']\n",
    "\n",
    "df"
   ]
  }
 ],
 "metadata": {
  "kernelspec": {
   "display_name": ".venv",
   "language": "python",
   "name": "python3"
  },
  "language_info": {
   "codemirror_mode": {
    "name": "ipython",
    "version": 3
   },
   "file_extension": ".py",
   "mimetype": "text/x-python",
   "name": "python",
   "nbconvert_exporter": "python",
   "pygments_lexer": "ipython3",
   "version": "3.11.9"
  }
 },
 "nbformat": 4,
 "nbformat_minor": 2
}
