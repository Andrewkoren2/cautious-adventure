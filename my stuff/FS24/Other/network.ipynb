{
 "cells": [
  {
   "cell_type": "markdown",
   "metadata": {},
   "source": [
    "Networkx"
   ]
  },
  {
   "cell_type": "code",
   "execution_count": null,
   "metadata": {},
   "outputs": [],
   "source": [
    "import networkx as nx\n",
    "import matplotlib.pyplot as plt\n",
    "import numpy as np\n",
    "from copy import deepcopy\n",
    "import itertools"
   ]
  },
  {
   "cell_type": "markdown",
   "metadata": {},
   "source": [
    "# Brute force method"
   ]
  },
  {
   "cell_type": "code",
   "execution_count": null,
   "metadata": {},
   "outputs": [],
   "source": [
    "cards = np.array([[0,0,0],[1,0,1],[0,1,1],[1,1,0]])\n",
    "cards"
   ]
  },
  {
   "cell_type": "code",
   "execution_count": null,
   "metadata": {},
   "outputs": [],
   "source": [
    "def connect_matching(cards):\n",
    "    card_indicies = [i for i in range(len(cards))]\n",
    "    edges = []\n",
    "    for i, card in enumerate(cards):\n",
    "        if True:\n",
    "            match_array = np.array([cards[:,j] == prop for j, prop in enumerate(card)])\n",
    "            match_array = np.delete(match_array, i, 1)\n",
    "            indicies = deepcopy(card_indicies)\n",
    "            indicies.pop(i)\n",
    "            for index, match in zip(indicies, match_array.T):\n",
    "                if sum(match) == 1:\n",
    "                    edges.append((i, index))\n",
    "    return(edges)\n",
    "\n",
    "def generate_lists(items, versions):\n",
    "    # Generate the lists using itertools.product\n",
    "    return itertools.product(range(versions + 1), repeat=items)\n"
   ]
  },
  {
   "cell_type": "code",
   "execution_count": null,
   "metadata": {},
   "outputs": [],
   "source": [
    "largeset"
   ]
  },
  {
   "cell_type": "code",
   "execution_count": null,
   "metadata": {},
   "outputs": [],
   "source": [
    "largeset = np.array(list(generate_lists(4, 1)))\n"
   ]
  },
  {
   "cell_type": "code",
   "execution_count": null,
   "metadata": {},
   "outputs": [],
   "source": [
    "largeset = np.array(list(generate_lists(4, 1)))\n",
    "\n",
    "input_card = largeset[0]\n",
    "superkeep = [input_card]\n",
    "\n",
    "keep = []\n",
    "for card in largeset[1:]:\n",
    "    if sum(card == input_card) == 1: keep.append(card)\n",
    "\n",
    "for i in range(100):\n",
    "#if True:\n",
    "    oldkeep = deepcopy(keep)\n",
    "    superkeep.append(oldkeep[0])\n",
    "    keep = []\n",
    "    for card in np.array(oldkeep[1:]):\n",
    "        if sum(oldkeep[0] == card) == 1: keep.append(card)"
   ]
  },
  {
   "cell_type": "code",
   "execution_count": null,
   "metadata": {},
   "outputs": [],
   "source": [
    "oldkeep"
   ]
  },
  {
   "cell_type": "code",
   "execution_count": null,
   "metadata": {},
   "outputs": [],
   "source": [
    "superkeep"
   ]
  },
  {
   "cell_type": "code",
   "execution_count": null,
   "metadata": {},
   "outputs": [],
   "source": [
    "keep"
   ]
  },
  {
   "cell_type": "code",
   "execution_count": null,
   "metadata": {},
   "outputs": [],
   "source": [
    "largeset = np.array(list(generate_lists(3, 1)))\n",
    "total_iterations = len(largeset)\n",
    "\n",
    "#for i in range(total_iterations*2):\n",
    "#    current_size = len(largeset)\n",
    "#    print(largeset)\n",
    "#    print(current_size)\n",
    "#    index = i % current_size-1\n",
    "#    if sum(largeset[index] == largeset[index+1]) > 1:\n",
    "#        print(largeset[index])\n",
    "#        print(largeset[index+1])\n",
    "#        print(sum(largeset[index] == largeset[index+1]))\n",
    "#        largeset = np.delete(largeset, index+1, 0)\n",
    "#\n",
    "#reduced_set = deepcopy(largeset)"
   ]
  },
  {
   "cell_type": "code",
   "execution_count": null,
   "metadata": {},
   "outputs": [],
   "source": [
    "G = nx.Graph()\n",
    "\n",
    "edges = connect_matching(largeset)\n",
    "G.add_edges_from(edges)\n",
    "nx.draw(G, with_labels=True, font_weight='bold')"
   ]
  },
  {
   "cell_type": "code",
   "execution_count": null,
   "metadata": {},
   "outputs": [],
   "source": [
    "list(G.neighbors(0))"
   ]
  },
  {
   "cell_type": "code",
   "execution_count": null,
   "metadata": {},
   "outputs": [],
   "source": [
    "def remove_non_fully_connected_nodes_iteratively(G):\n",
    "    while True:\n",
    "        # Find a node that is not connected to all other nodes\n",
    "        nodes_to_remove = [node for node, degree in G.degree() if degree != len(G.nodes) - 1]\n",
    "        \n",
    "        # If no such node exists, break the loop\n",
    "        if not nodes_to_remove:\n",
    "            break\n",
    "        \n",
    "        # Remove the first node found that is not fully connected\n",
    "        node_to_remove = nodes_to_remove[0]\n",
    "        G.remove_node(node_to_remove)\n",
    "        \n",
    "    return G"
   ]
  },
  {
   "cell_type": "markdown",
   "metadata": {},
   "source": [
    "kddhdcffffffDDSQDDSAAAAAAAAAA   AADDDDQ2Y64W53D3\n",
    "-embe|}\"?;[PL.OINHJUBGFYTVDRSAEWq3as4r5dt6b9nm ,/)poi\n",
    "uy] 'ot,ikfjrdghbgf fafsfvtvtuif89or0d-tp3ao.aqy2q;.,lj / //../vkmvnbv] \n",
    "/  embermreyeeeeeeeegggggggghhhhhhhhhhhhhuhhhhhhhhhhho[]\\\\/ "
   ]
  },
  {
   "cell_type": "code",
   "execution_count": null,
   "metadata": {},
   "outputs": [],
   "source": [
    "Galg = deepcopy(G)\n",
    "\n",
    "offset = 0\n",
    "for i in range(1000):\n",
    "    nodes = list(Galg.nodes)\n",
    "    index = offset % len(nodes)\n",
    "    Galg_reduction = Galg.subgraph(list(G.neighbors(nodes[index]))+[nodes[index]])\n",
    "    offset += 1\n",
    "    if Galg_reduction == Galg: break\n",
    "    else: Galg = Galg_reduction\n",
    "\n",
    "\n",
    "nx.draw(Galg, with_labels=True, font_weight='bold')"
   ]
  },
  {
   "cell_type": "code",
   "execution_count": null,
   "metadata": {},
   "outputs": [],
   "source": [
    "Galg = deepcopy(G)\n",
    "\n",
    "#while True:\n",
    "#    Galg.nodes\n",
    "##    G.subgraph(list(G.neighbors(0))+[0])\n",
    "#\n",
    "#Gsub = G.subgraph(list(G.neighbors(0))+[0])\n",
    "#Gsubsub = G.subgraph(list(G.neighbors(5))+[5])\n",
    "#nx.draw(Gsubsub)\n",
    "#len(Gsubsub)\n",
    "##Gsubsub.degree\n",
    "#"
   ]
  },
  {
   "cell_type": "code",
   "execution_count": null,
   "metadata": {},
   "outputs": [],
   "source": [
    "def get_neighbors(G, vertex):\n",
    "    return list(G.neighbors(vertex))\n",
    "\n",
    "node1 = G.nodes[0]\n",
    "\n",
    "get_neighbors(G, node1)"
   ]
  },
  {
   "cell_type": "markdown",
   "metadata": {},
   "source": [
    "# Using the function \n",
    "For Spot It problem.\n",
    "\n",
    "The more I work on this, the more futile I realize it is."
   ]
  },
  {
   "cell_type": "code",
   "execution_count": null,
   "metadata": {},
   "outputs": [],
   "source": [
    "class point:\n",
    "    def __init__(self, x, y) -> None:\n",
    "        self.x = x\n",
    "        self.y = y\n",
    "        self.missing = None\n",
    "    \n",
    "    def __str__(self) -> str:\n",
    "        return f\"({self.x},{self.y})\"\n",
    "    \n",
    "    def above(self, point2):\n",
    "        return True if self.y > point2.y else False\n",
    "\n",
    "\n",
    "def connective_power(p1, p2):\n",
    "    '''\n",
    "    Calculates the number of connections between two points on the connectivity triangle.\n",
    "    This should probably be paired with some map or other function\n",
    "    '''\n",
    "    dx = abs(p1.x-p2.x)\n",
    "    if p1.y == p2.y:\n",
    "        power = p1.y + 1 - dx\n",
    "        return  max(0, power)\n",
    "\n",
    "    larger = 0 if p1.above(p2) else 1\n",
    "    smaller = 1 - larger\n",
    "    points = [p1, p2]\n",
    "\n",
    "    backwards = 1 if points[larger].x >= points[smaller].x else 0\n",
    "\n",
    "    dy = abs(p1.y-p2.y)\n",
    "\n",
    "    if backwards:\n",
    "        #dx reduces connectivity moving backwards\n",
    "        power = points[larger].y + 1 - dx - dy\n",
    "\n",
    "    else:    \n",
    "        #In the forward direction, dx only matters if larger than dy\n",
    "        #+1 offset for 0-indexing\n",
    "        offset = 1 + (dy - dx) if dy < dx else 1\n",
    "\n",
    "        power = points[larger].y - dy + offset\n",
    "    \n",
    "    \n",
    "    return max(0, power)\n",
    "\n",
    "\n",
    "p2 = point(0,2)\n",
    "p1 = point(1,4)\n",
    "\n",
    "connective_power(p1, p2)\n"
   ]
  },
  {
   "cell_type": "markdown",
   "metadata": {},
   "source": [
    "However, this fails to represent non-linear sequences (1, 3), unless they can be mapped to this somehow"
   ]
  },
  {
   "cell_type": "code",
   "execution_count": null,
   "metadata": {},
   "outputs": [],
   "source": [
    "def map_to_point(symbols: set) -> point:\n",
    "    x = min(symbols) - 1\n",
    "    y = max(symbols) - 1\n",
    "    mapped_point = point(x, y)\n",
    "\n",
    "    holes = set(range(1, max(symbols)+1)).difference(symbols)\n",
    "\n",
    "    mapped_point.missing = holes\n",
    "\n",
    "    return mapped_point\n",
    "\n",
    "result = map_to_point({1, 3, 4})\n",
    "print(result)"
   ]
  },
  {
   "cell_type": "markdown",
   "metadata": {},
   "source": [
    "Make all cards from binary"
   ]
  },
  {
   "cell_type": "code",
   "execution_count": null,
   "metadata": {},
   "outputs": [],
   "source": [
    "import random\n",
    "import itertools\n",
    "\n",
    "symbols = range(7)\n",
    "all_cards = [set(card) for card in itertools.combinations(symbols, r=3)]\n",
    "#random.shuffle(all_cards)"
   ]
  },
  {
   "cell_type": "code",
   "execution_count": null,
   "metadata": {},
   "outputs": [],
   "source": [
    "def has_1_connection(card1, card2):\n",
    "    return len(card1.intersection(card2)) == 1\n",
    "\n",
    "def get_groups(cardset, operation):   \n",
    "    groups = []\n",
    "    for i, card in enumerate(cardset):\n",
    "        found_group = False\n",
    "        for group in groups:\n",
    "            fits_in_group = True\n",
    "            for group_card in group:\n",
    "                if not operation(card, group_card):\n",
    "                    fits_in_group = False\n",
    "                    break\n",
    "            if fits_in_group: \n",
    "                found_group = True\n",
    "                group.append(card)\n",
    "                break\n",
    "        if not found_group and len(groups) <= 10:\n",
    "            groups.append([card])\n",
    "        if i % 500 == 0:\n",
    "            print(i)\n",
    "    return groups\n",
    "\n",
    "grouped_cards = get_groups(all_cards, has_1_connection)\n",
    "grouped_cards"
   ]
  },
  {
   "cell_type": "code",
   "execution_count": null,
   "metadata": {},
   "outputs": [],
   "source": [
    "def existing_symbols(group):\n",
    "    symbol_set = set()\n",
    "    for card in group:\n",
    "        symbol_set = symbol_set.union(card)\n",
    "    return symbol_set\n",
    "\n",
    "a = existing_symbols(grouped_cards[0])"
   ]
  },
  {
   "cell_type": "code",
   "execution_count": null,
   "metadata": {},
   "outputs": [],
   "source": [
    "from copy import deepcopy\n",
    "\n",
    "symbols = range(57)\n",
    "\n",
    "card0 = set(range(8))\n",
    "card_group = [card0]\n",
    "\n",
    "for i in range(50000):\n",
    "    newcard = set()\n",
    "    newcard.add(random.sample(list(existing_symbols(card_group)), k=1)[0])\n",
    "\n",
    "    new_symbols = deepcopy(list(symbols))\n",
    "    random.shuffle(new_symbols)\n",
    "    while len(newcard) < 8:\n",
    "        target_symbol = new_symbols.pop()\n",
    "        newcard.add(target_symbol)\n",
    "\n",
    "        symbol_fits = True\n",
    "        #check operation\n",
    "        for card in card_group:\n",
    "            if not has_1_connection(newcard, card):\n",
    "                symbol_fits = False\n",
    "                break\n",
    "        if not symbol_fits:\n",
    "            newcard.remove(target_symbol)\n",
    "        \n",
    "        if len(new_symbols) == 0:\n",
    "            break\n",
    "    if len(newcard) != 0:\n",
    "        card_group.append(newcard)\n",
    "    if len(card_group) == 10:\n",
    "        break\n"
   ]
  },
  {
   "cell_type": "code",
   "execution_count": null,
   "metadata": {},
   "outputs": [],
   "source": [
    "card_group"
   ]
  },
  {
   "cell_type": "code",
   "execution_count": null,
   "metadata": {},
   "outputs": [],
   "source": [
    "from copy import deepcopy\n",
    "\n",
    "symbols = set(range(57))\n",
    "\n",
    "card0 = set(range(8))\n",
    "card_group = [card0]\n",
    "\n",
    "for i in range(10):\n",
    "    newcard = set()\n",
    "\n",
    "    for card in card_group:\n",
    "        if len(newcard.intersection(card)) == 0:\n",
    "            newcard.add(random.sample(list(card))[0])\n",
    "    \n",
    "\n",
    "    \n",
    "    \n",
    "        \n",
    "        "
   ]
  },
  {
   "cell_type": "markdown",
   "metadata": {},
   "source": [
    "# New set system"
   ]
  },
  {
   "cell_type": "code",
   "execution_count": null,
   "metadata": {},
   "outputs": [],
   "source": [
    "group_as_is = [{0, 1, 2, 3}, {3, 4, 5, 6}, {1, 4, 9, 11}, {0, 3, 4, 7}, {2, 6, 11, 7}]\n",
    "\n",
    "reduced_group = []\n",
    "\n",
    "for i in range(len(group_as_is)):\n",
    "    if i == 0:\n",
    "        reduced_group.append(group_as_is[i])\n",
    "    else:\n",
    "        dif_symbols = existing_symbols(reduced_group)\n",
    "        reduced_group.append(group_as_is[i].difference(dif_symbols))\n",
    "    \n",
    "reduced_group"
   ]
  },
  {
   "cell_type": "code",
   "execution_count": null,
   "metadata": {},
   "outputs": [],
   "source": [
    "card_group[1].difference(existing_symbols(card_group[:1]))"
   ]
  },
  {
   "cell_type": "code",
   "execution_count": 234,
   "metadata": {},
   "outputs": [],
   "source": [
    "import random\n",
    "from copy import deepcopy\n",
    "\n",
    "def existing_symbols(group):\n",
    "    symbol_set = set()\n",
    "    for card in group:\n",
    "        symbol_set = symbol_set.union(card)\n",
    "    return symbol_set\n",
    "\n",
    "def has_1_connection(card1, card2):\n",
    "    return len(card1.intersection(card2)) == 1\n",
    "\n",
    "def sample_set(input_set):\n",
    "    return random.sample(list(input_set), 1)[0]\n",
    "\n",
    "def make_new_connecting_card(card_group, allowed_starting_symbols):\n",
    "    '''\n",
    "    Creates a new card which connects to all other cards in the group.\\\\\n",
    "    The card may have fewer than max symbols\n",
    "    '''\n",
    "    new_card = {sample_first_unused(allowed_starting_symbols, {})}\n",
    "    for card in card_group[1:]:\n",
    "        if len(new_card) == len(card_group[0]):\n",
    "            break\n",
    "        has_1connect = [group if len(new_card.intersection(group)) != 0 else set() for group in card_group]\n",
    "        used_indicies = existing_symbols(has_1connect)\n",
    "        available_symbols = card.difference(used_indicies)\n",
    "        if available_symbols:\n",
    "            new_card.add(sample_set(available_symbols))#, new_card))\n",
    "    return new_card\n",
    "\n",
    "def diagnose_issue(card_group, new_card):\n",
    "    disconnected_cards = []\n",
    "    for card in card_group:\n",
    "        if not has_1_connection(card, new_card):\n",
    "            disconnected_cards.append(card)\n",
    "    newcard_list = list(new_card)\n",
    "    newcard_list.sort()\n",
    "    starting_symbol = newcard_list[0]\n",
    "    relevant_cards = []\n",
    "    for card in card_group:\n",
    "        if {starting_symbol}.issubset(card):\n",
    "            relevant_cards.append(card)\n",
    "\n",
    "    #If a card has the same first index as the new card, \n",
    "    #then all their symbols are blocked\n",
    "    blocked_symbols = existing_symbols(relevant_cards)\n",
    "    \n",
    "    remove_starting_param = False\n",
    "    for card in disconnected_cards:\n",
    "        if card.issubset(blocked_symbols):\n",
    "            remove_starting_param = True\n",
    "\n",
    "    return remove_starting_param, starting_symbol\n",
    "\n",
    "def sample_first_unused(sampling_set, card):\n",
    "    sampling_list = list(sampling_set)\n",
    "    sampling_list.sort()\n",
    "    for symbol in sampling_list:\n",
    "        if not {symbol}.issubset(card):\n",
    "            return symbol"
   ]
  },
  {
   "cell_type": "code",
   "execution_count": 259,
   "metadata": {},
   "outputs": [
    {
     "data": {
      "text/plain": [
       "{5, 6, 7}"
      ]
     },
     "execution_count": 259,
     "metadata": {},
     "output_type": "execute_result"
    }
   ],
   "source": [
    "set(list(card_group[0])[5:])"
   ]
  },
  {
   "cell_type": "code",
   "execution_count": 263,
   "metadata": {},
   "outputs": [],
   "source": [
    "all_symbols = set(range(57))\n",
    "card_group = [{0, 1, 2, 3, 4, 5, 6, 7}]\n",
    "allowed_starting_symbols = deepcopy(card_group[0])\n",
    "counter = 0\n",
    "other_counter = 0\n",
    "\n",
    "while True:\n",
    "    counter += 1\n",
    "    if counter % 50 == 0:\n",
    "        print(allowed_starting_symbols)\n",
    "        print(len(card_group))\n",
    "    if len(allowed_starting_symbols) == 0:\n",
    "        break\n",
    "    new_card = make_new_connecting_card(card_group, allowed_starting_symbols)\n",
    "    safecard = deepcopy(new_card)\n",
    "\n",
    "    append_card = True\n",
    "    #append unused symbols until card is full length\n",
    "    while len(new_card) < len(card_group[0]):\n",
    "        if other_counter == len(card_group[0]) + 2: \n",
    "            #print(safecard)\n",
    "            #print(new_card)\n",
    "            #print(unused_symbols.difference(new_card))\n",
    "            append_card = False\n",
    "            break\n",
    "\n",
    "        other_counter += 1\n",
    "        unused_symbols = all_symbols.difference(existing_symbols(card_group))\n",
    "        if unused_symbols:\n",
    "            sample_item = sample_set(unused_symbols) #, new_card)\n",
    "        if sample_item:\n",
    "            new_card.add(sample_item)\n",
    "\n",
    "    other_counter = 0\n",
    "    \n",
    "    if not all([has_1_connection(card, new_card) for card in card_group]):\n",
    "        remove_symbol, symbol = diagnose_issue(card_group, new_card)\n",
    "        if remove_symbol: \n",
    "            print(f'removing {symbol}')\n",
    "            allowed_starting_symbols.remove(symbol)\n",
    "    elif append_card:\n",
    "        card_group.append(new_card)\n",
    "    "
   ]
  },
  {
   "cell_type": "code",
   "execution_count": 257,
   "metadata": {},
   "outputs": [
    {
     "data": {
      "text/plain": [
       "{4, 13, 26, 39, 42, 48, 52}"
      ]
     },
     "execution_count": 257,
     "metadata": {},
     "output_type": "execute_result"
    }
   ],
   "source": [
    "new_card"
   ]
  },
  {
   "cell_type": "code",
   "execution_count": 266,
   "metadata": {},
   "outputs": [
    {
     "data": {
      "text/plain": [
       "[{0, 1, 2, 3, 4, 5, 6, 7},\n",
       " {0, 15, 25, 50, 51, 52, 53, 56},\n",
       " {0, 12, 20, 22, 34, 42, 45, 47},\n",
       " {0, 9, 10, 13, 18, 21, 54, 55},\n",
       " {0, 8, 19, 23, 31, 35, 36, 48},\n",
       " {0, 11, 16, 17, 37, 39, 41, 43},\n",
       " {0, 24, 27, 28, 29, 30, 33, 49},\n",
       " {0, 14, 26, 32, 38, 40, 44, 46},\n",
       " {1, 20, 36, 37, 38, 49, 52, 54},\n",
       " {1, 18, 22, 27, 40, 43, 48, 50},\n",
       " {1, 24, 26, 34, 35, 41, 55, 56},\n",
       " {1, 9, 14, 16, 19, 30, 42, 51},\n",
       " {1, 10, 23, 25, 33, 39, 46, 47},\n",
       " {1, 8, 15, 17, 21, 28, 32, 45},\n",
       " {1, 11, 12, 13, 29, 31, 44, 53},\n",
       " {2, 10, 11, 14, 35, 45, 49, 50},\n",
       " {2, 15, 23, 27, 41, 42, 44, 54},\n",
       " {2, 22, 28, 31, 38, 39, 51, 55},\n",
       " {2, 8, 12, 16, 18, 24, 46, 52},\n",
       " {2, 19, 20, 21, 25, 26, 29, 43},\n",
       " {3, 11, 21, 27, 34, 36, 46, 51},\n",
       " {3, 19, 24, 39, 40, 45, 53, 54},\n",
       " {3, 9, 12, 23, 26, 28, 37, 50},\n",
       " {4, 10, 12, 17, 19, 27, 38, 56},\n",
       " {5, 12, 32, 33, 35, 43, 51, 54}]"
      ]
     },
     "execution_count": 266,
     "metadata": {},
     "output_type": "execute_result"
    }
   ],
   "source": [
    "card_group"
   ]
  },
  {
   "cell_type": "code",
   "execution_count": 254,
   "metadata": {},
   "outputs": [
    {
     "name": "stdout",
     "output_type": "stream",
     "text": [
      "0 True\n",
      "1 True\n",
      "2 True\n",
      "3 True\n",
      "4 True\n",
      "5 True\n",
      "6 False\n",
      "7 True\n",
      "8 True\n",
      "9 True\n",
      "10 True\n",
      "11 True\n",
      "12 True\n",
      "13 False\n",
      "14 True\n",
      "15 False\n",
      "16 True\n",
      "17 True\n",
      "18 True\n",
      "19 True\n",
      "20 False\n",
      "21 True\n",
      "22 True\n",
      "23 True\n"
     ]
    }
   ],
   "source": [
    "new_card\n",
    "for i, card in enumerate(card_group):\n",
    "    print(i, has_1_connection(new_card, card))"
   ]
  },
  {
   "cell_type": "code",
   "execution_count": 251,
   "metadata": {},
   "outputs": [
    {
     "data": {
      "text/plain": [
       "[{0, 1, 2, 3, 4, 5, 6, 7},\n",
       " {0, 15, 25, 50, 51, 52, 53, 56},\n",
       " {0, 12, 20, 22, 34, 42, 45, 47},\n",
       " {0, 9, 10, 13, 18, 21, 54, 55},\n",
       " {0, 8, 19, 23, 31, 35, 36, 48},\n",
       " {0, 11, 16, 17, 37, 39, 41, 43},\n",
       " {0, 24, 27, 28, 29, 30, 33, 49},\n",
       " {0, 14, 26, 32, 38, 40, 44, 46},\n",
       " {1, 20, 36, 37, 38, 49, 52, 54},\n",
       " {1, 18, 22, 27, 40, 43, 48, 50},\n",
       " {1, 24, 26, 34, 35, 41, 55, 56},\n",
       " {1, 9, 14, 16, 19, 30, 42, 51},\n",
       " {1, 10, 23, 25, 33, 39, 46, 47},\n",
       " {1, 8, 15, 17, 21, 28, 32, 45},\n",
       " {1, 11, 12, 13, 29, 31, 44, 53},\n",
       " {2, 10, 11, 14, 35, 45, 49, 50},\n",
       " {2, 15, 23, 27, 41, 42, 44, 54},\n",
       " {2, 22, 28, 31, 38, 39, 51, 55},\n",
       " {2, 8, 12, 16, 18, 24, 46, 52},\n",
       " {2, 19, 20, 21, 25, 26, 29, 43},\n",
       " {3, 11, 21, 27, 34, 36, 46, 51},\n",
       " {3, 19, 24, 39, 40, 45, 53, 54},\n",
       " {3, 9, 12, 23, 26, 28, 37, 50},\n",
       " {4, 10, 12, 17, 19, 27, 38, 56}]"
      ]
     },
     "execution_count": 251,
     "metadata": {},
     "output_type": "execute_result"
    }
   ],
   "source": [
    "card_group"
   ]
  },
  {
   "cell_type": "code",
   "execution_count": 217,
   "metadata": {},
   "outputs": [
    {
     "name": "stdout",
     "output_type": "stream",
     "text": [
      "True\n",
      "True\n",
      "True\n",
      "True\n",
      "True\n",
      "True\n",
      "False\n",
      "True\n",
      "False\n",
      "True\n",
      "True\n",
      "False\n",
      "True\n",
      "False\n",
      "True\n",
      "True\n",
      "False\n",
      "True\n",
      "True\n",
      "True\n",
      "True\n"
     ]
    }
   ],
   "source": [
    "for card in card_group:\n",
    "    print(has_1_connection(card, new_card))"
   ]
  },
  {
   "cell_type": "code",
   "execution_count": 199,
   "metadata": {},
   "outputs": [
    {
     "data": {
      "text/plain": [
       "[{0, 1, 2, 3, 4, 5, 6, 7},\n",
       " {5, 8, 9, 10, 11, 12, 13, 14},\n",
       " {5, 15, 16, 17, 18, 19, 20, 21},\n",
       " {3, 8, 15, 22, 23, 24, 25, 26},\n",
       " {5, 26, 27, 28, 29, 30, 31, 32},\n",
       " {1, 10, 21, 24, 30, 33, 34, 35},\n",
       " {2, 8, 21, 29, 36, 37, 38, 39},\n",
       " {6, 13, 16, 23, 29, 33, 40, 41},\n",
       " {4, 14, 21, 23, 27, 42, 43, 44},\n",
       " {6, 11, 17, 25, 28, 34, 38, 44},\n",
       " {6, 10, 18, 26, 36, 43, 45, 46},\n",
       " {5, 22, 34, 39, 40, 43, 47, 48},\n",
       " {4, 12, 17, 24, 32, 39, 41, 45},\n",
       " {6, 12, 21, 22, 31, 49, 50, 51},\n",
       " {3, 13, 20, 32, 34, 36, 42, 51},\n",
       " {7, 13, 18, 24, 31, 37, 44, 47},\n",
       " {1, 13, 19, 25, 27, 39, 46, 50},\n",
       " {3, 14, 18, 28, 33, 39, 49, 52},\n",
       " {2, 12, 18, 25, 30, 40, 42, 53},\n",
       " {7, 12, 19, 23, 28, 35, 36, 48}]"
      ]
     },
     "execution_count": 199,
     "metadata": {},
     "output_type": "execute_result"
    }
   ],
   "source": [
    "card_group"
   ]
  },
  {
   "cell_type": "code",
   "execution_count": null,
   "metadata": {},
   "outputs": [],
   "source": [
    "# test consistency, run 500 times\n",
    "\n",
    "all_symbols = set(range(57))\n",
    "card_group = [{0, 1, 2, 3}]\n",
    "for k in range(500):\n",
    "    allowed_starting_symbols = deepcopy(card_group[0])\n",
    "    while True:\n",
    "        if len(allowed_starting_symbols) == 0:\n",
    "            break\n",
    "        new_card = make_new_connecting_card(card_group, allowed_starting_symbols)\n",
    "        while len(new_card) < len(card_group[0]):\n",
    "            unused_symbols = all_symbols.difference(existing_symbols(card_group))\n",
    "            new_card.add(sample_set(unused_symbols))\n",
    "        print(new_card)\n",
    "        if not all([has_1_connection(card, new_card) for card in card_group]):\n",
    "            remove_symbol, symbol = diagnose_issue(card_group, new_card)\n",
    "            if remove_symbol: allowed_starting_symbols.remove(symbol)\n",
    "        else:\n",
    "            card_group.append(new_card)\n",
    "    if k == 0:\n",
    "        saved_len = len(card_group)\n",
    "    else:\n",
    "        assert len(card_group) == saved_len\n",
    "    \n"
   ]
  },
  {
   "cell_type": "code",
   "execution_count": 143,
   "metadata": {},
   "outputs": [
    {
     "data": {
      "text/plain": [
       "{6, 17, 19, 21, 27, 34, 45, 50}"
      ]
     },
     "execution_count": 143,
     "metadata": {},
     "output_type": "execute_result"
    }
   ],
   "source": [
    "test_card = deepcopy(new_card)\n",
    "test_card\n"
   ]
  },
  {
   "cell_type": "code",
   "execution_count": 117,
   "metadata": {},
   "outputs": [],
   "source": [
    "for i in list(all_symbols.difference(test_card)):\n",
    "    test_card = deepcopy(new_card)\n",
    "    test_card.add(i)\n",
    "\n",
    "    disconnected_cards = []\n",
    "    overconnected_cards = []\n",
    "    for card in card_group:\n",
    "        if not has_1_connection(card, test_card):\n",
    "            disconnected_cards.append(card)\n",
    "        if len(card.intersection(test_card)) > 1:\n",
    "            overconnected_cards.append(card)\n",
    "\n",
    "    if len(overconnected_cards) == 0:\n",
    "        print(i)\n"
   ]
  },
  {
   "cell_type": "code",
   "execution_count": 174,
   "metadata": {},
   "outputs": [
    {
     "data": {
      "text/plain": [
       "[{6, 12, 20, 26, 36, 40, 41, 53}]"
      ]
     },
     "execution_count": 174,
     "metadata": {},
     "output_type": "execute_result"
    }
   ],
   "source": [
    "disconnected_cards"
   ]
  },
  {
   "cell_type": "code",
   "execution_count": 173,
   "metadata": {},
   "outputs": [
    {
     "data": {
      "text/plain": [
       "[{0, 1, 2, 3, 4, 5, 6, 7},\n",
       " {6, 12, 20, 26, 36, 40, 41, 53},\n",
       " {6, 10, 22, 38, 46, 47, 51, 56},\n",
       " {6, 16, 23, 29, 30, 35, 44, 52}]"
      ]
     },
     "execution_count": 173,
     "metadata": {},
     "output_type": "execute_result"
    }
   ],
   "source": [
    "relevant_cards"
   ]
  },
  {
   "cell_type": "code",
   "execution_count": 171,
   "metadata": {},
   "outputs": [],
   "source": [
    "test_card = deepcopy(card_group[1])"
   ]
  },
  {
   "cell_type": "code",
   "execution_count": 172,
   "metadata": {},
   "outputs": [
    {
     "name": "stdout",
     "output_type": "stream",
     "text": [
      "True 6\n"
     ]
    }
   ],
   "source": [
    "disconnected_cards = []\n",
    "overconnected_cards = []\n",
    "for card in card_group:\n",
    "    if not has_1_connection(card, test_card):\n",
    "        disconnected_cards.append(card)\n",
    "    if len(card.intersection(test_card)) > 1:\n",
    "        overconnected_cards.append(card)\n",
    "\n",
    "newcard_list = list(test_card)\n",
    "newcard_list.sort()\n",
    "starting_symbol = newcard_list[0]\n",
    "relevant_cards = []\n",
    "\n",
    "for card in card_group:\n",
    "    if {starting_symbol}.issubset(card):\n",
    "        relevant_cards.append(card)\n",
    "#If a card has the same first index as the new card, \n",
    "#then all their symbols are blocked\n",
    "blocked_symbols = existing_symbols(relevant_cards)\n",
    "\n",
    "remove_starting_param = False\n",
    "for card in disconnected_cards:\n",
    "    if card.issubset(blocked_symbols):\n",
    "        remove_starting_param = True\n",
    "print(remove_starting_param, starting_symbol)\n"
   ]
  },
  {
   "cell_type": "code",
   "execution_count": null,
   "metadata": {},
   "outputs": [],
   "source": []
  },
  {
   "cell_type": "code",
   "execution_count": null,
   "metadata": {},
   "outputs": [],
   "source": [
    "for i, card1 in enumerate(card_group):\n",
    "    for j, card2 in enumerate(card_group):\n",
    "        if card1 != card2:\n",
    "            try:\n",
    "                assert has_1_connection(new_card, card2)\n",
    "            except: \n",
    "                print(i, new_card, j, card2)\n",
    "                #raise AssertionError('failed')"
   ]
  }
 ],
 "metadata": {
  "kernelspec": {
   "display_name": "Python 3",
   "language": "python",
   "name": "python3"
  },
  "language_info": {
   "codemirror_mode": {
    "name": "ipython",
    "version": 3
   },
   "file_extension": ".py",
   "mimetype": "text/x-python",
   "name": "python",
   "nbconvert_exporter": "python",
   "pygments_lexer": "ipython3",
   "version": "3.10.13"
  }
 },
 "nbformat": 4,
 "nbformat_minor": 2
}
