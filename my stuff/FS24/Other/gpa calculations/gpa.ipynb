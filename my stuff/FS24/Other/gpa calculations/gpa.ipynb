{
 "cells": [
  {
   "cell_type": "markdown",
   "metadata": {},
   "source": [
    "# GPA calculation"
   ]
  },
  {
   "cell_type": "code",
   "execution_count": 239,
   "metadata": {},
   "outputs": [
    {
     "data": {
      "text/html": [
       "<div>\n",
       "<style scoped>\n",
       "    .dataframe tbody tr th:only-of-type {\n",
       "        vertical-align: middle;\n",
       "    }\n",
       "\n",
       "    .dataframe tbody tr th {\n",
       "        vertical-align: top;\n",
       "    }\n",
       "\n",
       "    .dataframe thead th {\n",
       "        text-align: right;\n",
       "    }\n",
       "</style>\n",
       "<table border=\"1\" class=\"dataframe\">\n",
       "  <thead>\n",
       "    <tr style=\"text-align: right;\">\n",
       "      <th></th>\n",
       "      <th>Course</th>\n",
       "      <th>Name</th>\n",
       "      <th>Credits</th>\n",
       "      <th>Grade</th>\n",
       "      <th>Honors</th>\n",
       "    </tr>\n",
       "  </thead>\n",
       "  <tbody>\n",
       "    <tr>\n",
       "      <th>0</th>\n",
       "      <td>CEM 141</td>\n",
       "      <td>GENERAL CHEMISTRY</td>\n",
       "      <td>4.0</td>\n",
       "      <td>4.0</td>\n",
       "      <td>False</td>\n",
       "    </tr>\n",
       "    <tr>\n",
       "      <th>1</th>\n",
       "      <td>MTH 153H</td>\n",
       "      <td>HONORS CALCULUS II</td>\n",
       "      <td>4.0</td>\n",
       "      <td>4.0</td>\n",
       "      <td>True</td>\n",
       "    </tr>\n",
       "    <tr>\n",
       "      <th>2</th>\n",
       "      <td>PHL 225</td>\n",
       "      <td>PARADOXES</td>\n",
       "      <td>3.0</td>\n",
       "      <td>3.5</td>\n",
       "      <td>False</td>\n",
       "    </tr>\n",
       "    <tr>\n",
       "      <th>3</th>\n",
       "      <td>PHY 184</td>\n",
       "      <td>PHYS SCIENTISTS &amp; ENGINEERS II</td>\n",
       "      <td>4.0</td>\n",
       "      <td>4.0</td>\n",
       "      <td>False</td>\n",
       "    </tr>\n",
       "    <tr>\n",
       "      <th>4</th>\n",
       "      <td>UGS 200H</td>\n",
       "      <td>HONORS RESEARCH SEMINAR</td>\n",
       "      <td>3.0</td>\n",
       "      <td>P</td>\n",
       "      <td>True</td>\n",
       "    </tr>\n",
       "    <tr>\n",
       "      <th>5</th>\n",
       "      <td>BS 161</td>\n",
       "      <td>CELLS AND MOLECULES</td>\n",
       "      <td>3.0</td>\n",
       "      <td>4.0</td>\n",
       "      <td>False</td>\n",
       "    </tr>\n",
       "    <tr>\n",
       "      <th>6</th>\n",
       "      <td>MTH 234</td>\n",
       "      <td>MULTIVARIABLE CALCULUS</td>\n",
       "      <td>4.0</td>\n",
       "      <td>CR</td>\n",
       "      <td>False</td>\n",
       "    </tr>\n",
       "    <tr>\n",
       "      <th>7</th>\n",
       "      <td>MTH 317H</td>\n",
       "      <td>HONORS LINEAR ALGEBRA</td>\n",
       "      <td>4.0</td>\n",
       "      <td>CR</td>\n",
       "      <td>True</td>\n",
       "    </tr>\n",
       "    <tr>\n",
       "      <th>8</th>\n",
       "      <td>PHY 215</td>\n",
       "      <td>THERMODYNAMICS &amp; MODRN PHYSICS</td>\n",
       "      <td>3.0</td>\n",
       "      <td>CR</td>\n",
       "      <td>False</td>\n",
       "    </tr>\n",
       "    <tr>\n",
       "      <th>9</th>\n",
       "      <td>PHY 440</td>\n",
       "      <td>ELECTRONICS</td>\n",
       "      <td>4.0</td>\n",
       "      <td>CR</td>\n",
       "      <td>False</td>\n",
       "    </tr>\n",
       "    <tr>\n",
       "      <th>10</th>\n",
       "      <td>CMSE 201</td>\n",
       "      <td>COMP MODEL &amp; DATA ANYL I</td>\n",
       "      <td>4.0</td>\n",
       "      <td>4.0</td>\n",
       "      <td>False</td>\n",
       "    </tr>\n",
       "    <tr>\n",
       "      <th>11</th>\n",
       "      <td>PHY 471</td>\n",
       "      <td>QUANTUM PHYSICS I</td>\n",
       "      <td>3.0</td>\n",
       "      <td>3.0</td>\n",
       "      <td>False</td>\n",
       "    </tr>\n",
       "    <tr>\n",
       "      <th>12</th>\n",
       "      <td>PHY 481</td>\n",
       "      <td>ELECTRICITY AND MAGNETISM I</td>\n",
       "      <td>3.0</td>\n",
       "      <td>3.0</td>\n",
       "      <td>False</td>\n",
       "    </tr>\n",
       "    <tr>\n",
       "      <th>13</th>\n",
       "      <td>CSS 202</td>\n",
       "      <td>WORLD OF TURF</td>\n",
       "      <td>2.0</td>\n",
       "      <td>3.5</td>\n",
       "      <td>False</td>\n",
       "    </tr>\n",
       "    <tr>\n",
       "      <th>14</th>\n",
       "      <td>EC 404</td>\n",
       "      <td>BEHAVIORAL ECONOMICS (W)</td>\n",
       "      <td>3.0</td>\n",
       "      <td>4.0</td>\n",
       "      <td>False</td>\n",
       "    </tr>\n",
       "    <tr>\n",
       "      <th>15</th>\n",
       "      <td>MTH 347H</td>\n",
       "      <td>HON ORDINARY DIFF EQUATIONS</td>\n",
       "      <td>3.0</td>\n",
       "      <td>3.0</td>\n",
       "      <td>True</td>\n",
       "    </tr>\n",
       "    <tr>\n",
       "      <th>16</th>\n",
       "      <td>PHY 321</td>\n",
       "      <td>CLASSICAL MECHANICS I</td>\n",
       "      <td>3.0</td>\n",
       "      <td>4.0</td>\n",
       "      <td>False</td>\n",
       "    </tr>\n",
       "    <tr>\n",
       "      <th>17</th>\n",
       "      <td>PHY 451</td>\n",
       "      <td>ADVANCED LABORATORY</td>\n",
       "      <td>3.0</td>\n",
       "      <td>3.5</td>\n",
       "      <td>False</td>\n",
       "    </tr>\n",
       "  </tbody>\n",
       "</table>\n",
       "</div>"
      ],
      "text/plain": [
       "      Course                            Name  Credits Grade  Honors\n",
       "0    CEM 141               GENERAL CHEMISTRY      4.0   4.0   False\n",
       "1   MTH 153H              HONORS CALCULUS II      4.0   4.0    True\n",
       "2    PHL 225                       PARADOXES      3.0   3.5   False\n",
       "3    PHY 184  PHYS SCIENTISTS & ENGINEERS II      4.0   4.0   False\n",
       "4   UGS 200H         HONORS RESEARCH SEMINAR      3.0     P    True\n",
       "5     BS 161             CELLS AND MOLECULES      3.0   4.0   False\n",
       "6    MTH 234          MULTIVARIABLE CALCULUS      4.0    CR   False\n",
       "7   MTH 317H           HONORS LINEAR ALGEBRA      4.0    CR    True\n",
       "8    PHY 215  THERMODYNAMICS & MODRN PHYSICS      3.0    CR   False\n",
       "9    PHY 440                     ELECTRONICS      4.0    CR   False\n",
       "10  CMSE 201        COMP MODEL & DATA ANYL I      4.0   4.0   False\n",
       "11   PHY 471               QUANTUM PHYSICS I      3.0   3.0   False\n",
       "12   PHY 481     ELECTRICITY AND MAGNETISM I      3.0   3.0   False\n",
       "13   CSS 202                   WORLD OF TURF      2.0   3.5   False\n",
       "14    EC 404        BEHAVIORAL ECONOMICS (W)      3.0   4.0   False\n",
       "15  MTH 347H     HON ORDINARY DIFF EQUATIONS      3.0   3.0    True\n",
       "16   PHY 321           CLASSICAL MECHANICS I      3.0   4.0   False\n",
       "17   PHY 451             ADVANCED LABORATORY      3.0   3.5   False"
      ]
     },
     "execution_count": 239,
     "metadata": {},
     "output_type": "execute_result"
    }
   ],
   "source": [
    "import pandas as pd\n",
    "\n",
    "file_path = 'transcript_raw.txt'\n",
    "\n",
    "df = pd.read_csv(file_path, header=None) \n",
    "\n",
    "transcript = pd.DataFrame(columns=['Course','Name','Credits','Grade','Honors'])\n",
    "\n",
    "for val in df[0]:\n",
    "    entry = val.split(' ')\n",
    "    if not entry[-1]:\n",
    "        entry.pop(-1)\n",
    "\n",
    "    code = ' '.join(entry[:2])\n",
    "\n",
    "    i = 0\n",
    "    if entry[-1] in {'H'}:\n",
    "        addl = True\n",
    "        i = 1\n",
    "    else:\n",
    "        addl = False\n",
    "    \n",
    "    grade = entry[-1-i]\n",
    "    credits = float(entry[-2-i])\n",
    "    name = ' '.join(entry[2:-2-i])\n",
    "    transcript.loc[len(transcript)] = [code, name, credits, grade, addl]\n",
    "\n",
    "transcript"
   ]
  },
  {
   "cell_type": "code",
   "execution_count": 240,
   "metadata": {},
   "outputs": [
    {
     "name": "stderr",
     "output_type": "stream",
     "text": [
      "C:\\Users\\andre\\AppData\\Local\\Temp\\ipykernel_12888\\1620540602.py:25: SettingWithCopyWarning: \n",
      "A value is trying to be set on a copy of a slice from a DataFrame.\n",
      "Try using .loc[row_indexer,col_indexer] = value instead\n",
      "\n",
      "See the caveats in the documentation: https://pandas.pydata.org/pandas-docs/stable/user_guide/indexing.html#returning-a-view-versus-a-copy\n",
      "  t_hasgrade['GP'] = t_hasgrade.loc[:,['Credits', 'Grade']].prod(axis=1)\n"
     ]
    }
   ],
   "source": [
    "transcript['Major'] = [\n",
    "    True, True, False, True, True,\n",
    "    True, True, True, True, True,\n",
    "    True, True, True,\n",
    "    False, False, True, True, True\n",
    "]\n",
    "\n",
    "t_hasgrade = transcript[transcript['Grade'].copy().apply(lambda x: not x.isalpha())]\n",
    "t_hasgrade.loc[:,['Credits', 'Grade']] = t_hasgrade.loc[:,['Credits', 'Grade']].astype(float)\n",
    "\n",
    "t_hasgrade['GP'] = t_hasgrade.loc[:,['Credits', 'Grade']].prod(axis=1)\n",
    "t_major = t_hasgrade[t_hasgrade['Major']]"
   ]
  },
  {
   "cell_type": "code",
   "execution_count": 241,
   "metadata": {},
   "outputs": [
    {
     "data": {
      "text/html": [
       "<div>\n",
       "<style scoped>\n",
       "    .dataframe tbody tr th:only-of-type {\n",
       "        vertical-align: middle;\n",
       "    }\n",
       "\n",
       "    .dataframe tbody tr th {\n",
       "        vertical-align: top;\n",
       "    }\n",
       "\n",
       "    .dataframe thead th {\n",
       "        text-align: right;\n",
       "    }\n",
       "</style>\n",
       "<table border=\"1\" class=\"dataframe\">\n",
       "  <thead>\n",
       "    <tr style=\"text-align: right;\">\n",
       "      <th></th>\n",
       "      <th>Course</th>\n",
       "      <th>Name</th>\n",
       "      <th>Credits</th>\n",
       "      <th>Grade</th>\n",
       "      <th>Honors</th>\n",
       "      <th>Major</th>\n",
       "      <th>GP</th>\n",
       "    </tr>\n",
       "  </thead>\n",
       "  <tbody>\n",
       "    <tr>\n",
       "      <th>0</th>\n",
       "      <td>CEM 141</td>\n",
       "      <td>GENERAL CHEMISTRY</td>\n",
       "      <td>4.0</td>\n",
       "      <td>4.0</td>\n",
       "      <td>False</td>\n",
       "      <td>True</td>\n",
       "      <td>16.0</td>\n",
       "    </tr>\n",
       "    <tr>\n",
       "      <th>1</th>\n",
       "      <td>MTH 153H</td>\n",
       "      <td>HONORS CALCULUS II</td>\n",
       "      <td>4.0</td>\n",
       "      <td>4.0</td>\n",
       "      <td>True</td>\n",
       "      <td>True</td>\n",
       "      <td>16.0</td>\n",
       "    </tr>\n",
       "    <tr>\n",
       "      <th>2</th>\n",
       "      <td>PHL 225</td>\n",
       "      <td>PARADOXES</td>\n",
       "      <td>3.0</td>\n",
       "      <td>3.5</td>\n",
       "      <td>False</td>\n",
       "      <td>False</td>\n",
       "      <td>10.5</td>\n",
       "    </tr>\n",
       "    <tr>\n",
       "      <th>3</th>\n",
       "      <td>PHY 184</td>\n",
       "      <td>PHYS SCIENTISTS &amp; ENGINEERS II</td>\n",
       "      <td>4.0</td>\n",
       "      <td>4.0</td>\n",
       "      <td>False</td>\n",
       "      <td>True</td>\n",
       "      <td>16.0</td>\n",
       "    </tr>\n",
       "    <tr>\n",
       "      <th>5</th>\n",
       "      <td>BS 161</td>\n",
       "      <td>CELLS AND MOLECULES</td>\n",
       "      <td>3.0</td>\n",
       "      <td>4.0</td>\n",
       "      <td>False</td>\n",
       "      <td>True</td>\n",
       "      <td>12.0</td>\n",
       "    </tr>\n",
       "    <tr>\n",
       "      <th>10</th>\n",
       "      <td>CMSE 201</td>\n",
       "      <td>COMP MODEL &amp; DATA ANYL I</td>\n",
       "      <td>4.0</td>\n",
       "      <td>4.0</td>\n",
       "      <td>False</td>\n",
       "      <td>True</td>\n",
       "      <td>16.0</td>\n",
       "    </tr>\n",
       "    <tr>\n",
       "      <th>11</th>\n",
       "      <td>PHY 471</td>\n",
       "      <td>QUANTUM PHYSICS I</td>\n",
       "      <td>3.0</td>\n",
       "      <td>3.0</td>\n",
       "      <td>False</td>\n",
       "      <td>True</td>\n",
       "      <td>9.0</td>\n",
       "    </tr>\n",
       "    <tr>\n",
       "      <th>12</th>\n",
       "      <td>PHY 481</td>\n",
       "      <td>ELECTRICITY AND MAGNETISM I</td>\n",
       "      <td>3.0</td>\n",
       "      <td>3.0</td>\n",
       "      <td>False</td>\n",
       "      <td>True</td>\n",
       "      <td>9.0</td>\n",
       "    </tr>\n",
       "    <tr>\n",
       "      <th>13</th>\n",
       "      <td>CSS 202</td>\n",
       "      <td>WORLD OF TURF</td>\n",
       "      <td>2.0</td>\n",
       "      <td>3.5</td>\n",
       "      <td>False</td>\n",
       "      <td>False</td>\n",
       "      <td>7.0</td>\n",
       "    </tr>\n",
       "    <tr>\n",
       "      <th>14</th>\n",
       "      <td>EC 404</td>\n",
       "      <td>BEHAVIORAL ECONOMICS (W)</td>\n",
       "      <td>3.0</td>\n",
       "      <td>4.0</td>\n",
       "      <td>False</td>\n",
       "      <td>False</td>\n",
       "      <td>12.0</td>\n",
       "    </tr>\n",
       "    <tr>\n",
       "      <th>15</th>\n",
       "      <td>MTH 347H</td>\n",
       "      <td>HON ORDINARY DIFF EQUATIONS</td>\n",
       "      <td>3.0</td>\n",
       "      <td>3.0</td>\n",
       "      <td>True</td>\n",
       "      <td>True</td>\n",
       "      <td>9.0</td>\n",
       "    </tr>\n",
       "    <tr>\n",
       "      <th>16</th>\n",
       "      <td>PHY 321</td>\n",
       "      <td>CLASSICAL MECHANICS I</td>\n",
       "      <td>3.0</td>\n",
       "      <td>4.0</td>\n",
       "      <td>False</td>\n",
       "      <td>True</td>\n",
       "      <td>12.0</td>\n",
       "    </tr>\n",
       "    <tr>\n",
       "      <th>17</th>\n",
       "      <td>PHY 451</td>\n",
       "      <td>ADVANCED LABORATORY</td>\n",
       "      <td>3.0</td>\n",
       "      <td>3.5</td>\n",
       "      <td>False</td>\n",
       "      <td>True</td>\n",
       "      <td>10.5</td>\n",
       "    </tr>\n",
       "  </tbody>\n",
       "</table>\n",
       "</div>"
      ],
      "text/plain": [
       "      Course                            Name  Credits Grade  Honors  Major  \\\n",
       "0    CEM 141               GENERAL CHEMISTRY      4.0   4.0   False   True   \n",
       "1   MTH 153H              HONORS CALCULUS II      4.0   4.0    True   True   \n",
       "2    PHL 225                       PARADOXES      3.0   3.5   False  False   \n",
       "3    PHY 184  PHYS SCIENTISTS & ENGINEERS II      4.0   4.0   False   True   \n",
       "5     BS 161             CELLS AND MOLECULES      3.0   4.0   False   True   \n",
       "10  CMSE 201        COMP MODEL & DATA ANYL I      4.0   4.0   False   True   \n",
       "11   PHY 471               QUANTUM PHYSICS I      3.0   3.0   False   True   \n",
       "12   PHY 481     ELECTRICITY AND MAGNETISM I      3.0   3.0   False   True   \n",
       "13   CSS 202                   WORLD OF TURF      2.0   3.5   False  False   \n",
       "14    EC 404        BEHAVIORAL ECONOMICS (W)      3.0   4.0   False  False   \n",
       "15  MTH 347H     HON ORDINARY DIFF EQUATIONS      3.0   3.0    True   True   \n",
       "16   PHY 321           CLASSICAL MECHANICS I      3.0   4.0   False   True   \n",
       "17   PHY 451             ADVANCED LABORATORY      3.0   3.5   False   True   \n",
       "\n",
       "      GP  \n",
       "0   16.0  \n",
       "1   16.0  \n",
       "2   10.5  \n",
       "3   16.0  \n",
       "5   12.0  \n",
       "10  16.0  \n",
       "11   9.0  \n",
       "12   9.0  \n",
       "13   7.0  \n",
       "14  12.0  \n",
       "15   9.0  \n",
       "16  12.0  \n",
       "17  10.5  "
      ]
     },
     "execution_count": 241,
     "metadata": {},
     "output_type": "execute_result"
    }
   ],
   "source": [
    "t_hasgrade"
   ]
  },
  {
   "cell_type": "code",
   "execution_count": 242,
   "metadata": {},
   "outputs": [
    {
     "name": "stdout",
     "output_type": "stream",
     "text": [
      "3.6904761904761907\n",
      "3.6911764705882355\n"
     ]
    }
   ],
   "source": [
    "total_credit = sum(t_hasgrade['Credits'])\n",
    "total_score = sum(t_hasgrade['GP'])\n",
    "\n",
    "gpa = total_score/total_credit\n",
    "print(gpa)\n",
    "\n",
    "major_credit = sum(t_major['Credits'])\n",
    "major_score = sum(t_major['GP'])\n",
    "\n",
    "major_gpa = major_score/major_credit\n",
    "print(major_gpa)"
   ]
  },
  {
   "cell_type": "code",
   "execution_count": null,
   "metadata": {},
   "outputs": [],
   "source": []
  },
  {
   "cell_type": "code",
   "execution_count": 243,
   "metadata": {},
   "outputs": [
    {
     "data": {
      "text/plain": [
       "True"
      ]
     },
     "execution_count": 243,
     "metadata": {},
     "output_type": "execute_result"
    }
   ],
   "source": [
    "'hi' in {'hi', 'bye'}"
   ]
  },
  {
   "cell_type": "code",
   "execution_count": 244,
   "metadata": {},
   "outputs": [
    {
     "data": {
      "text/plain": [
       "['PHY', '451', 'ADVANCED', 'LABORATORY', '3.00', '3.5']"
      ]
     },
     "execution_count": 244,
     "metadata": {},
     "output_type": "execute_result"
    }
   ],
   "source": [
    "entry"
   ]
  },
  {
   "cell_type": "code",
   "execution_count": 245,
   "metadata": {},
   "outputs": [
    {
     "data": {
      "text/plain": [
       "0"
      ]
     },
     "execution_count": 245,
     "metadata": {},
     "output_type": "execute_result"
    }
   ],
   "source": [
    "i"
   ]
  },
  {
   "cell_type": "code",
   "execution_count": 246,
   "metadata": {},
   "outputs": [
    {
     "data": {
      "text/plain": [
       "'3.5'"
      ]
     },
     "execution_count": 246,
     "metadata": {},
     "output_type": "execute_result"
    }
   ],
   "source": [
    "entry[-1-i]"
   ]
  },
  {
   "cell_type": "code",
   "execution_count": 247,
   "metadata": {},
   "outputs": [
    {
     "ename": "SyntaxError",
     "evalue": "incomplete input (3001847479.py, line 3)",
     "output_type": "error",
     "traceback": [
      "\u001b[1;36m  Cell \u001b[1;32mIn[247], line 3\u001b[1;36m\u001b[0m\n\u001b[1;33m    \u001b[0m\n\u001b[1;37m    ^\u001b[0m\n\u001b[1;31mSyntaxError\u001b[0m\u001b[1;31m:\u001b[0m incomplete input\n"
     ]
    }
   ],
   "source": [
    "entry = val.split(' ')\n",
    "if entry[-1].isalpha():\n",
    "    \n"
   ]
  },
  {
   "cell_type": "code",
   "execution_count": 80,
   "metadata": {},
   "outputs": [
    {
     "data": {
      "text/plain": [
       "False"
      ]
     },
     "execution_count": 80,
     "metadata": {},
     "output_type": "execute_result"
    }
   ],
   "source": [
    "'4'.isalpha()"
   ]
  }
 ],
 "metadata": {
  "kernelspec": {
   "display_name": ".venv",
   "language": "python",
   "name": "python3"
  },
  "language_info": {
   "codemirror_mode": {
    "name": "ipython",
    "version": 3
   },
   "file_extension": ".py",
   "mimetype": "text/x-python",
   "name": "python",
   "nbconvert_exporter": "python",
   "pygments_lexer": "ipython3",
   "version": "3.11.9"
  }
 },
 "nbformat": 4,
 "nbformat_minor": 2
}
