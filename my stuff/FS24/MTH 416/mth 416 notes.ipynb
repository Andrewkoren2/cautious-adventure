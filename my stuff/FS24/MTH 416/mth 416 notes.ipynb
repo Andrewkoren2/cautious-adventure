{
 "cells": [
  {
   "cell_type": "markdown",
   "metadata": {},
   "source": [
    "# Mth 416 Notes"
   ]
  },
  {
   "cell_type": "markdown",
   "metadata": {},
   "source": [
    "## Valid codes"
   ]
  },
  {
   "cell_type": "markdown",
   "metadata": {},
   "source": [
    "*** Alphabet: non-empty finite set\n",
    "\n",
    "$\\mathbb{A} = \\{A, B, C, ..., X, Y, Z, \\sqcup \\}$ where $|A| = 27$\n",
    "\n",
    "$S$ - generic alphabet \n",
    "\n",
    "$S^n$ - generic alphabet concat to len $n$\n",
    "\n",
    "$S^*$ - all messages (from $\\emptyset$ to $ZZZZZZZZZ...$)\n"
   ]
  },
  {
   "cell_type": "markdown",
   "metadata": {},
   "source": [
    "*** Code: injective function \n",
    "\n",
    "$c$ - generic code\n",
    "\n",
    "$c$ in $S$ using $T$ -  $c:S \\rightarrow T^*$ all messages in $S$ become something in $T^*$\n",
    "\n",
    "Regular code: $c:S \\rightarrow T^* \\backslash \\emptyset$\n",
    "\n",
    "The set $C \\coloneqq \\{c(s) | s \\in S\\}$, the portion of $T^*$ that $c$ send $S$ to\n",
    "\n",
    "$c^*$ extension of $c$, applying $c$ to each symbol in a message. <br>\n",
    "We're lazy, so we use $c$ to represent $c^*$"
   ]
  },
  {
   "cell_type": "markdown",
   "metadata": {},
   "source": [
    "The extension is not necessarily 1:1\n",
    "\n",
    "*** Uniquely Decodable UD\n",
    "\n",
    "UD if $c^*$ is injective"
   ]
  },
  {
   "cell_type": "markdown",
   "metadata": {},
   "source": [
    "The binary tree $U = \\mathbb{B}^*, E = \\left< \\langle a, as \\rangle | a \\in \\mathbb{B}^*, c \\in \\mathbb{B} \\right>$ "
   ]
  },
  {
   "cell_type": "markdown",
   "metadata": {},
   "source": [
    "Codes $ c(s) \\rightarrow T$ can be converted into trees with $T^*$ where each node is the parent of a another node and each leaf is a codeword\n",
    "\n",
    "Proof by contradiction:\n",
    "\n",
    "Suppose there is a simple cycle of $l>2$ through the nodes $v_0, v_1, \\dots, v_n$ where $v_{i-1} \\neq v_{i+1}$ with $i<n$\n",
    "\n",
    "Then $v_0 = v_n$, and $v_1 = v_n-1$ which implies $n=2$ which contradicts that $l>2$\n",
    "\n"
   ]
  },
  {
   "cell_type": "markdown",
   "metadata": {},
   "source": [
    "Craft-Mcmillan Number\n",
    "\n",
    "$$K = \\sum_{i=0}^m\\frac{n_i}{b_i}=n_0+\\frac{n_1}{b}+\\frac{n_2}{b^2}+\\dots+\\frac{n_m}{b^m}$$\n",
    "\n",
    "Lemma 2.3.4:<br>\n",
    "If prefix free: $K \\leq 1$ <br>\n",
    "Let D be the set of messages of length $M$ which have the same code word as a prefix\n",
    "- $|D| \\leq b^{M}K$\n",
    "- If prefix free, $|D| = b^{M}K$"
   ]
  },
  {
   "cell_type": "markdown",
   "metadata": {},
   "source": [
    "(*) Let $n \\in \\mathbb{N}$, Then there are $b^n$ messages of length $n$ using $T$ \n",
    "\n",
    "Proof: <br>\n",
    "Any messages are of the from $t_1\\cdots t_n$ with $t_i\\in T$, $b=|T|$ so there are $b$ choices of codes for each $t_i$ and the total number of choices are $b^n$"
   ]
  },
  {
   "cell_type": "markdown",
   "metadata": {},
   "source": [
    "Proof of lemma:\n",
    "\n",
    "$|D| \\leq b^M K$<br>\n",
    "Any message of length $M$ with $c$ as a prefix can be written as $cd$ where d is the remaining characters. By (*) there are $b^{M-1}$ choices for in a. Hernce there are $n_ib^{M-1}$ messages of length $M$ with a codeword of length $i$ as a prefix.\n",
    "\n",
    "$$\n",
    "\\begin{matrix}\n",
    "|D| & \\leq & n_0 b^{M}+n_1b^{M-1}+\\cdots+n_{M-1}b+n_{M} \\\\\n",
    "& \\leq &  b^M K\n",
    "\\end{matrix}\n",
    "$$\n",
    "\n",
    "(b) PF. If C is PF, then any prefix is a prefix to one codeword, so $|D| = b^{M}K$\n",
    "\n",
    "(c) $ |D| \\leq b^{M}$ by (*) so by b $b^{M} K \\leq b^{M}$ and $K \\leq 1$"
   ]
  },
  {
   "cell_type": "markdown",
   "metadata": {},
   "source": [
    "<details> <summary> I don't like my writing from monday </summary>\n",
    "\n",
    "The big one. Theorem 2.3.5\n",
    "\n",
    "Let $b \\in \\mathbb{Z}^+$ and $M \\in \\mathbb{N}$ Let n be a tuple of non-negative integers such that $K \\leq 1$ where $K$ is the KM number of the parameter n. Then there exists $b$-nary PF code $C$ with parameter $n$. \n",
    "\n",
    "Proof:\n",
    "\n",
    "By Let $T$ be any alphabet with $b = |T|$. Suppose $M=0$ then $K = n_0 \\leq 1$\n",
    "\n",
    "If $n_0=0$, put $C=\\langle \\rangle$ <br>\n",
    "If $n_1=1$, put $C=langle \\emptyset \\rangle$.\n",
    "\n",
    "Then $C$ is a code with parameter $n=(n_0)$ <br>\n",
    "Suppose $M \\geq 1$ and $M -1$ still holds for $M$. Put $\\tilde n = n_0,\\cdots, n_{m-1}$ Let $\\tilde K$ be the new CM number. \n",
    "\n",
    "Then $\\tilde K  = K - \\frac{n_M}{b^M} \\leq 1$ By induction there exists a $b$-nary PF code with $\\tilde N$ using $T$\n",
    "\n",
    "</details>"
   ]
  },
  {
   "cell_type": "markdown",
   "metadata": {},
   "source": [
    "Theorem 2.3.5 is about proving that given a parameter Ex. (0,0,3,1) and a Kraft-McMillan number less than 1 with that parameter, a prefix-free code exists where the parameter is used"
   ]
  },
  {
   "cell_type": "markdown",
   "metadata": {},
   "source": [
    "$\\text{Im}$ image\n",
    "\n",
    "2.4.1 Let $c:S\\rightarrow T^*$ and $d:R\\rightarrow T^*$ <br>\n",
    "(a) Let $f: X \\rightarrow Y$ be a function, then $\\text{Im} f \\coloneq \\{f(x)|x\\in X\\} $ <br>\n",
    "(b) define $cd: S \\times R \\rightarrow T^*$ by \n",
    "$$\n",
    "(cd)(s,r) \\coloneq c(s)d(r)\n",
    "$$\n",
    "for all $s \\in S, r \\in R$<br>\n",
    "(c) Let $A, B \\subset T^*, then AB = \\langle ab|a\\in A, b\\in B\\rangle$\n",
    "\n",
    "(d) let $i \\in \\mathbb{Z}^+$ Define $C^2: S^2 \\rightarrow T^*$, etc\n",
    "\n",
    "--------------------------------------------------------------------------------\n",
    "\n",
    "Lemma 2.4.2 Let $c:S\\rightarrow T^*$ and $d:R\\rightarrow T^*$ be codes where $C$ and $D$ are their codewords. Then\n",
    "\n",
    "(a) $\\text{Im} cd = CD$, etc <br>\n",
    "(b) The function $S\\times R \\rightarrow T^*$ is an image $\\leftrightarrow$ for each $e \\in CD \\exist$ a unique $a \\in C$ and $b \\in D$ with $e =ab$. <br>\n",
    "(c) If $cd$ is a code, then $CD$ is the set of codewords <br>\n",
    "(d) if $c$ or $d$ is regular, then so is $cd$\n",
    "\n",
    "Proof:<br>\n",
    "(a) $\\text{Im} cd = \\langle cd(s,r)|(s,r)\\in S\\times R\\rangle$ <br> $= \\langle c(s)d(r)|s \\in S, r\\in R\\rangle = CD$\n",
    "\n",
    "(b) $cd$ is a code $\\leftrightarrow$ $cd$ is 1-1 $\\leftrightarrow$ there is a unique $(s,r) \\in S \\times R$ with $e = cd(s,r) $ <br>$\\leftrightarrow$ $e=ab$\n",
    "\n",
    "(c) By (a) $\\text{Im}cd = CD$ ez\n",
    "\n",
    "(d) I won't bother with this one. "
   ]
  },
  {
   "cell_type": "markdown",
   "metadata": {},
   "source": [
    "Converting codes into polynomials (cuz combinatorics)\n",
    "\n",
    "2.4.3 \n",
    "\n",
    "Generating function $Q_c(x) = n_0 + n_1 x + n_2 x^2 + \\dots + n_M x^M$ for the parameter $n = (n_0, n_1,\\dots,n_M)$\n",
    "\n",
    "$Q_{cd} = Q_cQ_d$\n",
    "\n",
    "Isn't that fancy. It also means $Q_{c^i}=Q_c^i$\n",
    "\n",
    "Proof: Maths"
   ]
  },
  {
   "cell_type": "markdown",
   "metadata": {},
   "source": [
    "Fun stuff: Lemma 2.5.1\n",
    "\n",
    "Let c be b0nary with maximal length $M$.\n",
    "\n",
    "(a) $K \\leq M+1$ and if $c$ is regular, $K \\leq M$ <br> \n",
    "(b) $K = Q_c(\\frac{1}{b})$\n",
    "\n",
    "Proof: the number of messages of length i using a alphabet of size b is $b^i$ <br>\n",
    "Hence $n_i \\leq b^i$ and so $\\frac{n_i}{b_i} \\leq 1$. Thus\n",
    "$$\n",
    "K = \\sum_{i=0}^M \\frac{n_i}{b^i} \\leq \\sum_{i=0}^M i \\leq M+1\n",
    "$$\n",
    "\n",
    "If $c$ is regular, $\\emptyset$ is not a codeword and $n_0=0$, yielding $$K \\leq \\sum_{i=1}^M \\frac{n_i}{b^i} \\leq M$$\n",
    "\n",
    "(b) literally plug in $1/b$ \n"
   ]
  },
  {
   "cell_type": "markdown",
   "metadata": {},
   "source": [
    "Lemma 2.5.2 Let $c$ and $d$ : $S\\rightarrow T^*$ such that $cd$ is a code. Let $K$ and $L$ be their respective Kraft-Mcmillan numbers. Then the Kraft-Mcmillan code of $cd$ is $KL$. Another easy proof: just use 2.4.5(a)\n",
    "\n",
    "$$Q_{cd}(x) = Q_c(x)Q_d(x)\\\\ Q_{cd}(1/b) = Q_c(1/b)Q_d(1/b) \\\\ K_{cd} = KL$$"
   ]
  },
  {
   "cell_type": "markdown",
   "metadata": {},
   "source": [
    "Theorem 2.5.3\n",
    "\n",
    "Let $C$ be a UD code. Then $K \\leq 1$. \n",
    "\n",
    "Proof: Let $M$ be the maximum length of a codeword in $C$. Then the maximum length of $C^i$ is $iM$ \n",
    "\n",
    "Since UD codes are regular, $c^i$ is regular and $K^i \\leq iM$.\n",
    "\n",
    "$$\n",
    "i\\ln(K) = \\ln(K^i) \\leq \\ln(iM) \\\\\n",
    "\\ln(K) \\leq \\frac{\\ln(iM)}{i} \\forall i \\in \\mathbb{Z}^+ \\\\\n",
    "\\ln(K) \\leq \\lim_{i\\rightarrow \\infty} \\frac{\\ln(i M)}{i} = 0\n",
    "$$\n",
    "\n",
    "Thus $K \\leq  e^0 = 1$"
   ]
  },
  {
   "cell_type": "markdown",
   "metadata": {},
   "source": [
    "Corollary 2.5.4: given $n=(n_0,n_1,n_2,\\dots)$ where $M$ and $n_i\\in \\mathbb{N}$, we have\n",
    "\n",
    "(a) Either $(n=1,0,0,\\dots)$ orthere is a $b$-nary UD code with parameter $n$ <br>\n",
    "(b) $K\\leq 1$ <br>\n",
    "(c) There is a $b$-nary PF-code $c$ with parameter $n$.\n",
    "\n",
    "Proof:\n",
    "$(a)\\Rightarrow(b)$ either 1. trivial or 2. by theorem 2.4.3 $K\\leq 1$ <br>\n",
    "$(b)\\Rightarrow(c)$ 2.3.5\n",
    "$(c)\\Rightarrow(a)$ Idk because math\n"
   ]
  },
  {
   "cell_type": "markdown",
   "metadata": {},
   "source": [
    "## Economical codes"
   ]
  },
  {
   "cell_type": "markdown",
   "metadata": {},
   "source": []
  }
 ],
 "metadata": {
  "kernelspec": {
   "display_name": "Python 3",
   "language": "python",
   "name": "python3"
  },
  "language_info": {
   "name": "python",
   "version": "3.11.9"
  }
 },
 "nbformat": 4,
 "nbformat_minor": 2
}
