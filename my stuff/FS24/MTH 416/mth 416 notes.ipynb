{
 "cells": [
  {
   "cell_type": "markdown",
   "metadata": {},
   "source": [
    "# Mth 416 Notes"
   ]
  },
  {
   "cell_type": "markdown",
   "metadata": {},
   "source": [
    "*** Alphabet: non-empty finite set\n",
    "\n",
    "$\\mathbb{A} = \\{A, B, C, ..., X, Y, Z, \\sqcup \\}$ where $|A| = 27$\n",
    "\n",
    "$S$ - generic alphabet \n",
    "\n",
    "$S^n$ - generic alphabet concat to len $n$\n",
    "\n",
    "$S^*$ - all messages (from $\\emptyset$ to $ZZZZZZZZZ...$)\n"
   ]
  },
  {
   "cell_type": "markdown",
   "metadata": {},
   "source": [
    "*** Code: injective function \n",
    "\n",
    "$c$ - generic code\n",
    "\n",
    "$c$ in $S$ using $T$ -  $c:S \\rightarrow T^*$ all messages in $S$ become something in $T^*$\n",
    "\n",
    "Regular code: $c:S \\rightarrow T^* \\backslash \\emptyset$\n",
    "\n",
    "The set $C \\coloneqq \\{c(s) | s \\in S\\}$, the portion of $T^*$ that $c$ send $S$ to\n",
    "\n",
    "$c^*$ extension of $c$, applying $c$ to each symbol in a message. <br>\n",
    "We're lazy, so we use $c$ to represent $c^*$"
   ]
  },
  {
   "cell_type": "markdown",
   "metadata": {},
   "source": [
    "The extension is not necessarily 1:1\n",
    "\n",
    "*** Uniquely Decodable UD\n",
    "\n",
    "UD if $c^*$ is injective"
   ]
  },
  {
   "cell_type": "markdown",
   "metadata": {},
   "source": [
    "The binary tree $U = \\mathbb{B}^*, E = \\left< \\langle a, as \\rangle | a \\in \\mathbb{B}^*, c \\in \\mathbb{B} \\right>$ "
   ]
  }
 ],
 "metadata": {
  "kernelspec": {
   "display_name": "Python 3",
   "language": "python",
   "name": "python3"
  },
  "language_info": {
   "name": "python",
   "version": "3.11.9"
  }
 },
 "nbformat": 4,
 "nbformat_minor": 2
}
