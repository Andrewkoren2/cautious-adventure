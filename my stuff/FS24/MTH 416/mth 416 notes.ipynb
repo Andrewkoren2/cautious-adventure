{
 "cells": [
  {
   "cell_type": "markdown",
   "metadata": {},
   "source": [
    "# Mth 416 Notes"
   ]
  },
  {
   "cell_type": "markdown",
   "metadata": {},
   "source": [
    "*** Alphabet: non-empty finite set\n",
    "\n",
    "$\\mathbb{A} = \\{A, B, C, ..., X, Y, Z, \\sqcup \\}$ where $|A| = 27$\n",
    "\n",
    "$S$ - generic alphabet \n",
    "\n",
    "$S^n$ - generic alphabet concat to len $n$\n",
    "\n",
    "$S^*$ - all messages (from $\\emptyset$ to $ZZZZZZZZZ...$)\n"
   ]
  },
  {
   "cell_type": "markdown",
   "metadata": {},
   "source": [
    "*** Code: injective function \n",
    "\n",
    "$c$ - generic code\n",
    "\n",
    "$c$ in $S$ using $T$ -  $c:S \\rightarrow T^*$ all messages in $S$ become something in $T^*$\n",
    "\n",
    "Regular code: $c:S \\rightarrow T^* \\backslash \\emptyset$\n",
    "\n",
    "The set $C \\coloneqq \\{c(s) | s \\in S\\}$, the portion of $T^*$ that $c$ send $S$ to\n",
    "\n",
    "$c^*$ extension of $c$, applying $c$ to each symbol in a message. <br>\n",
    "We're lazy, so we use $c$ to represent $c^*$"
   ]
  },
  {
   "cell_type": "markdown",
   "metadata": {},
   "source": [
    "The extension is not necessarily 1:1\n",
    "\n",
    "*** Uniquely Decodable UD\n",
    "\n",
    "UD if $c^*$ is injective"
   ]
  },
  {
   "cell_type": "markdown",
   "metadata": {},
   "source": [
    "The binary tree $U = \\mathbb{B}^*, E = \\left< \\langle a, as \\rangle | a \\in \\mathbb{B}^*, c \\in \\mathbb{B} \\right>$ "
   ]
  },
  {
   "cell_type": "markdown",
   "metadata": {},
   "source": [
    "Codes $ c(s) \\rightarrow T$ can be converted into trees with $T^*$ where each node is the parent of a another node and each leaf is a codeword\n",
    "\n",
    "Proof by contradiction:\n",
    "\n",
    "Suppose there is a simple cycle of $l>2$ through the nodes $v_0, v_1, \\dots, v_n$ where $v_{i-1} \\neq v_{i+1}$ with $i<n$\n",
    "\n",
    "Then $v_0 = v_n$, and $v_1 = v_n-1$ which implies $n=2$ which contradicts that $l>2$\n",
    "\n"
   ]
  },
  {
   "cell_type": "markdown",
   "metadata": {},
   "source": [
    "Craft-Mcmillan Number\n",
    "\n",
    "$$K = \\sum_{i=0}^m\\frac{n_i}{b_i}=n_0+\\frac{n_1}{b}+\\frac{n_2}{b^2}+\\dots+\\frac{n_m}{b^m}$$\n",
    "\n",
    "Lemma 2.3.4:<br>\n",
    "If prefix free: $K \\leq 1$ <br>\n",
    "Let D be the set of messages of length $M$ which have the same code word as a prefix\n",
    "- $|D| \\leq b^{M}K$\n",
    "- If prefix free, $|D| = b^{M}K$"
   ]
  },
  {
   "cell_type": "markdown",
   "metadata": {},
   "source": [
    "(*) Let $n \\in \\mathbb{N}$, Then there are $b^n$ messages of length $n$ using $T$ \n",
    "\n",
    "Proof: <br>\n",
    "Any messages are of the from $t_1\\cdots t_n$ with $t_i\\in T$, $b=|T|$ so there are $b$ choices of codes for each $t_i$ and the total number of choices are $b^n$"
   ]
  },
  {
   "cell_type": "markdown",
   "metadata": {},
   "source": [
    "Proof of lemma:\n",
    "\n",
    "$|D| \\leq b^M K$<br>\n",
    "Any message of length $M$ with $c$ as a prefix can be written as $cd$ where d is the remaining characters. By (*) there are $b^{M-1}$ choices for in a. Hernce there are $n_ib^{M-1}$ messages of length $M$ with a codeword of length $i$ as a prefix.\n",
    "\n",
    "$$\n",
    "\\begin{matrix}\n",
    "|D| & \\leq & n_0 b^{M}+n_1b^{M-1}+\\cdots+n_{M-1}b+n_{M} \\\\\n",
    "& \\leq &  b^M K\n",
    "\\end{matrix}\n",
    "$$\n",
    "\n",
    "(b) PF. If C is PF, then any prefix is a prefix to one codeword, so $|D| = b^{M}K$\n",
    "\n",
    "(c) $ |D| \\leq b^{M}$ by (*) so by b $b^{M} K \\leq b^{M}$ and $K \\leq 1$"
   ]
  },
  {
   "cell_type": "markdown",
   "metadata": {},
   "source": [
    "The big one. Theorem 2.3.5\n",
    "\n",
    "Let $b \\in \\mathbb{Z}^+$ and $M \\in \\mathbb{N}$ Let n be a tuple of non-negative integers such that $K \\leq 1$ where $K$ is the KM number of the parameter n. Then there exists $b$-nary PF code $C$ with parameter $n$. \n",
    "\n",
    "Proof:\n",
    "\n",
    "By Let $T$ be any alphabet with $b = |T|$. Suppose $M=0$ then $K = n_0 \\leq 1$\n",
    "\n",
    "If $n_0=0$, put $C=\\langle \\rangle$ <br>\n",
    "If $n_1=1$, put $C=langle \\emptyset \\rangle$.\n",
    "\n",
    "Then $C$ is a code with parameter $n=(n_0)$ <br>\n",
    "Suppose $M \\geq 1$ and $M -1$ still holds for $M$. Put $\\tilde n = n_0,\\cdots, n_{m-1}$ Let $\\tilde K$ be the new CM number. \n",
    "\n",
    "Then $\\tilde K  = K - \\frac{n_M}{b^M} \\leq 1$ By induction there exists a $b$-nary PF code with $\\tilde N$ using $T$"
   ]
  }
 ],
 "metadata": {
  "kernelspec": {
   "display_name": "Python 3",
   "language": "python",
   "name": "python3"
  },
  "language_info": {
   "name": "python",
   "version": "3.11.9"
  }
 },
 "nbformat": 4,
 "nbformat_minor": 2
}
