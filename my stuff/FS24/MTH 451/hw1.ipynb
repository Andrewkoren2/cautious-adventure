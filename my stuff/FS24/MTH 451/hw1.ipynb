{
 "cells": [
  {
   "cell_type": "markdown",
   "metadata": {},
   "source": [
    "HW1: 1.2 Problem 5a, 15b"
   ]
  },
  {
   "cell_type": "markdown",
   "metadata": {},
   "source": [
    "5. Use three-digit rounding arithmetic to perform the following calculations. Compute the absolute error\n",
    "and relative error with the exact value determined to at least five digits.\n",
    "\n",
    "a. 133 + 0.921"
   ]
  },
  {
   "cell_type": "markdown",
   "metadata": {},
   "source": [
    "15. Use the 64-bit long real format to find the decimal equivalent of the following floating-point machine\n",
    "numbers\n",
    "\n",
    "b. 1 10000001010 1001001100000000000000000000000000000000000000000000"
   ]
  },
  {
   "cell_type": "markdown",
   "metadata": {},
   "source": [
    "$$\n",
    "y_{fl} = (-1)^s2^{c-1023}(1+f) \\\\\n",
    "$$\n",
    "Let's fill it in\n",
    "$$\n",
    "s = 1 \\mapsto (-1)^1=-1\\\\\n",
    "c = 10000001010  = 1*2^{10}+0*2^9+\\dots+0*2^4+1*2^3+0*2^2+1*2^1+0*2^0 \\\\= 1034 \\mapsto 2^{1034-1023}=2^{11}=2048 \\\\\n",
    "f = 10010011000\\dots \\mapsto \\frac{1}{2}^1 + \\frac{1}{2}^4 + \\frac{1}{2}^7 +\\frac{1}{2}^8 = 0.57421875\n",
    "$$\n",
    "This yields \n",
    "$$\n",
    "y_{fl} = -1(2048)(1+0.57421875) = -3224\n",
    "$$"
   ]
  },
  {
   "cell_type": "markdown",
   "metadata": {},
   "source": [
    "In-class notes (live)\n",
    "\n",
    "solve for $f(x) = 0 \\rightarrow x^2-2=0 \\rightarrow x=\\pm \\sqrt{2}$ \n",
    "\n",
    "Bisection method.\n",
    "\n",
    "1. $f$ continuous on $[a, b]$\n",
    "2. $f(a)f(b) < 0$ one point on each side of zero <br>\n",
    "Result: $\\Rightarrow f(p) = 0, p\\in(a,b)$\n",
    "\n",
    "To do this: Zeno's paradox until we converge to $p$\n",
    "\n",
    "Easier to compare sizes of functions than hold big numbers.\n",
    "\n",
    "Criteria for stopping:\n",
    "\n",
    "$P_{n+1}=\\frac{a_n+b_n}{2}$\n",
    "\n",
    "1) $|f({P_{n+1}})| < \\epsilon, \\epsilon <<1 $\n",
    "2) $f(a_n)f(p_n+1) < 0$ change b to p\n",
    "3) $f(b_n)f(p_n+1) < 0$ change a to p\n",
    "\n",
    "What is the rate of convergence?\n",
    "\n",
    "$$\n",
    "|b_{n+1}| = \\frac{1}{2} |b_n-a_n| \\\\\n",
    "|b_i-a_i| = \\frac{1}{2^{i-1}}|b_1-a_1|\n",
    "$$\n",
    "\n",
    "With initial gap of 1, how large will i be to have to be to get to $\\epsilon - 0.000001$?\n",
    "\n",
    "$$\n",
    "0.000001 > \\frac{1}{2^{i-1}} \\\\\n",
    "2^{i-1} > \\frac{1}{0.000001} = 1000000 \\\\\n",
    "\\log_2(2^{i-1}) > \\log_2(1000000) \\\\\n",
    "i-1 > 19.93 \\\\\n",
    "i > 20.93\n",
    "$$\n",
    "\n",
    "$\\frac{1}{2^{20}} = 1.907 * 9.5*10^{-7} < 10^{-6}$"
   ]
  },
  {
   "cell_type": "markdown",
   "metadata": {},
   "source": [
    "Symbolic computation works best with polynomials"
   ]
  }
 ],
 "metadata": {
  "language_info": {
   "name": "python"
  }
 },
 "nbformat": 4,
 "nbformat_minor": 2
}
