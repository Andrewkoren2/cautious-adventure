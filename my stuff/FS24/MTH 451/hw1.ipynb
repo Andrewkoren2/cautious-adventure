{
 "cells": [
  {
   "cell_type": "markdown",
   "metadata": {},
   "source": [
    "HW1: 1.2 Problem 5a, 15b"
   ]
  },
  {
   "cell_type": "markdown",
   "metadata": {},
   "source": [
    "5. Use three-digit rounding arithmetic to perform the following calculations. Compute the absolute error\n",
    "and relative error with the exact value determined to at least five digits.\n",
    "\n",
    "a. 133 + 0.921"
   ]
  },
  {
   "cell_type": "markdown",
   "metadata": {},
   "source": [
    "Exact answer: $p = 133.921$ <br>\n",
    "Three digit rounding: $p^* = 133.921 + 0.5 = 134.421 \\rightarrow 134$\n",
    "\n",
    "$$\n",
    "|p - p^*| = |133.921-134| = 0.079 \\\\\n",
    "\\frac{|p - p^*|}{|p|} = \\frac{0.079}{133.921} = 0.000589900016 = 5.90 * 10^{-4}\n",
    "$$\n"
   ]
  },
  {
   "cell_type": "markdown",
   "metadata": {},
   "source": [
    "15. Use the 64-bit long real format to find the decimal equivalent of the following floating-point machine\n",
    "numbers\n",
    "\n",
    "b. 1 10000001010 1001001100000000000000000000000000000000000000000000"
   ]
  },
  {
   "cell_type": "markdown",
   "metadata": {},
   "source": [
    "$$\n",
    "y_{fl} = (-1)^s2^{c-1023}(1+f) \\\\\n",
    "$$\n",
    "Let's fill it in\n",
    "$$\n",
    "s = 1 \\mapsto (-1)^1=-1\\\\\n",
    "c = 10000001010  = 1*2^{10}+0*2^9+\\dots+0*2^4+1*2^3+0*2^2+1*2^1+0*2^0 \\\\= 1034 \\mapsto 2^{1034-1023}=2^{11}=2048 \\\\\n",
    "f = 10010011000\\dots \\mapsto \\frac{1}{2}^1 + \\frac{1}{2}^4 + \\frac{1}{2}^7 +\\frac{1}{2}^8 = 0.57421875\n",
    "$$\n",
    "This yields \n",
    "$$\n",
    "y_{fl} = -1(2048)(1+0.57421875) = -3224\n",
    "$$\n",
    "Which freaks me out because somehow I didn't realize this would be an integer"
   ]
  }
 ],
 "metadata": {
  "kernelspec": {
   "display_name": ".venv",
   "language": "python",
   "name": "python3"
  },
  "language_info": {
   "codemirror_mode": {
    "name": "ipython",
    "version": 3
   },
   "file_extension": ".py",
   "mimetype": "text/x-python",
   "name": "python",
   "nbconvert_exporter": "python",
   "pygments_lexer": "ipython3",
   "version": "3.11.9"
  }
 },
 "nbformat": 4,
 "nbformat_minor": 2
}
