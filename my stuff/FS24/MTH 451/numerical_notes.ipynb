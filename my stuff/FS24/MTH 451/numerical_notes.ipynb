{
 "cells": [
  {
   "cell_type": "markdown",
   "metadata": {},
   "source": [
    "# Mth 451\n",
    "\n"
   ]
  },
  {
   "cell_type": "markdown",
   "metadata": {},
   "source": [
    "Day 2 - chopping & error\n",
    "\n",
    "Chopping\n",
    "$$\n",
    "\\dfrac{\\|P - P^*\\|}{|P|} \\leq 10^{-k+1}\n",
    "$$\n",
    "\n",
    "Rounding\n",
    "$$\n",
    "\\dfrac{|P-P^*|}{|P|} \\leq 0.5 * 10^{-k+1}\n",
    "$$\n",
    "\n"
   ]
  }
 ],
 "metadata": {
  "language_info": {
   "name": "python"
  }
 },
 "nbformat": 4,
 "nbformat_minor": 2
}
