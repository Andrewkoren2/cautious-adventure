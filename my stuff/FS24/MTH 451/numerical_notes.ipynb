{
 "cells": [
  {
   "cell_type": "markdown",
   "metadata": {},
   "source": [
    "# Mth 451\n",
    "\n"
   ]
  },
  {
   "cell_type": "markdown",
   "metadata": {},
   "source": [
    "Day 2 - chopping & error\n",
    "\n",
    "Note, if these notes are confusing, just check out 1.2 from the textbook\n",
    "\n",
    "Chopping\n",
    "$$\n",
    "\\dfrac{\\|P - P^*\\|}{|P|} \\leq 10^{-k+1}\n",
    "$$\n",
    "\n",
    "Rounding\n",
    "$$\n",
    "\\dfrac{|P-P^*|}{|P|} \\leq 0.5 * 10^{-k+1}\n",
    "$$\n",
    "\n"
   ]
  },
  {
   "cell_type": "markdown",
   "metadata": {},
   "source": [
    "Subtraction of very close numbers: the first k values are equivalent\n",
    "\n",
    "$$\n",
    "x = o_1d_1 \\dots d_k d_{k+1}\\dots d_p \\dots \\times 10^r\\\\\n",
    "y = o_1d_1 \\dots d_k \\beta_{k+1}\\dots \\beta_p \\dots \\times 10^r\n",
    "$$\n",
    "Pretty easy to run.\n",
    "\n",
    "$$\n",
    "\\left| \\frac{x-y}{x}\\right| = \\frac{d_{k+1}-\\beta_{k+1} + \\dots +d_p-\\beta_p}{o_1d_1 \\dots d_k d_{k+1}\\dots d_p \\dots}\\frac{\\times 10^r}{\\times 10^r}\n",
    "$$\n",
    "\n",
    "Division is not so simple, or quadratic equation. Symbolic calculators aren't great, they still need to be evaluated eventually.\n",
    "\n"
   ]
  },
  {
   "cell_type": "markdown",
   "metadata": {},
   "source": [
    "Week 2"
   ]
  },
  {
   "cell_type": "code",
   "execution_count": 1,
   "metadata": {},
   "outputs": [
    {
     "data": {
      "text/plain": [
       "-3224.0"
      ]
     },
     "execution_count": 1,
     "metadata": {},
     "output_type": "execute_result"
    }
   ],
   "source": [
    "def make_num(bits):\n",
    "    s = int(bits[0])\n",
    "    bin_c = bits[1:12]\n",
    "    bin_f = bits[12:]\n",
    "\n",
    "    c = 0\n",
    "    for i, bit in enumerate(bin_c):\n",
    "        power = 10-i\n",
    "        c += int(bit) * 2 ** power\n",
    "    \n",
    "    f = 0\n",
    "    for i, bit in enumerate(bin_f):\n",
    "        power = i+1\n",
    "        f += int(bit) * (1/2)**power\n",
    "    \n",
    "    return (-1)**s * 2**(c-1023) * (1+f)\n",
    "\n",
    "make_num('1100000010101001001100000000000000000000000000000000000000000000')\n",
    "\n"
   ]
  },
  {
   "cell_type": "markdown",
   "metadata": {},
   "source": [
    "In-class notes (wed)\n",
    "\n",
    "solve for $f(x) = 0 \\rightarrow x^2-2=0 \\rightarrow x=\\pm \\sqrt{2}$ \n",
    "\n",
    "Bisection method.\n",
    "\n",
    "1. $f$ continuous on $[a, b]$\n",
    "2. $f(a)f(b) < 0$ one point on each side of zero <br>\n",
    "Result: $\\Rightarrow f(p) = 0, p\\in(a,b)$\n",
    "\n",
    "To do this: Zeno's paradox until we converge to $p$\n",
    "\n",
    "Easier to compare sizes of functions than hold big numbers.\n",
    "\n",
    "Criteria for stopping:\n",
    "\n",
    "$P_{n+1}=\\frac{a_n+b_n}{2}$\n",
    "\n",
    "1) $|f({P_{n+1}})| < \\epsilon, \\epsilon <<1 $\n",
    "2) $f(a_n)f(p_n+1) < 0$ change b to p\n",
    "3) $f(b_n)f(p_n+1) < 0$ change a to p\n",
    "\n",
    "What is the rate of convergence?\n",
    "\n",
    "$$\n",
    "|b_{n+1}| = \\frac{1}{2} |b_n-a_n| \\\\\n",
    "|b_i-a_i| = \\frac{1}{2^{i-1}}|b_1-a_1|\n",
    "$$\n",
    "\n",
    "With initial gap of 1, how large will i be to have to be to get to $\\epsilon - 0.000001$?\n",
    "\n",
    "$$\n",
    "0.000001 > \\frac{1}{2^{i-1}} \\\\\n",
    "2^{i-1} > \\frac{1}{0.000001} = 1000000 \\\\\n",
    "\\log_2(2^{i-1}) > \\log_2(1000000) \\\\\n",
    "i-1 > 19.93 \\\\\n",
    "i > 20.93\n",
    "$$\n",
    "\n",
    "$\\frac{1}{2^{20}} = 1.907 * 9.5*10^{-7} < 10^{-6}$"
   ]
  },
  {
   "cell_type": "markdown",
   "metadata": {},
   "source": [
    "Week 2 Friday\n",
    "\n",
    "Fixed points\n",
    "\n",
    "$$\n",
    "\\begin{matrix}\n",
    "f\\in(a,b) & f(p) = 0 & p(p^2-p-1)=p  \\\\ & \\Updownarrow \\\\\n",
    "& g(p) = p\n",
    "\\end{matrix}\n",
    "$$\n",
    "\n",
    "$$\n",
    "g(x)=x^2-2 \\\\\n",
    "\\begin{matrix}\n",
    "g(p) =p &\\Leftrightarrow& p^2 - 2 = p &\\Leftrightarrow& f(p) = p^2 - p -2 = 0 \\\\\n",
    "& \\Leftrightarrow& (p+1)(p-2)=0 \\\\\n",
    "& \\Leftrightarrow& x= -1, 2\n",
    "\\end{matrix}\n",
    "$$\n",
    "\n",
    "What about\n",
    "$$\n",
    "\\begin{matrix}\n",
    "x_0 &\\rightarrow& f(x_0) \\\\\n",
    "& \\swarrow \\\\\n",
    "x_1 &\\rightarrow& f(x_1) \\\\\n",
    "&\\swarrow \\\\\n",
    "x_2 &\\rightarrow& f(x_2)\n",
    "\\end{matrix}\n",
    "$$\n",
    "Fixed point iteration. Now $f(x_i)=x_{i+1}$"
   ]
  },
  {
   "cell_type": "markdown",
   "metadata": {},
   "source": [
    "Select a space with at least one fixed point in $[a,b]$"
   ]
  }
 ],
 "metadata": {
  "kernelspec": {
   "display_name": ".venv",
   "language": "python",
   "name": "python3"
  },
  "language_info": {
   "codemirror_mode": {
    "name": "ipython",
    "version": 3
   },
   "file_extension": ".py",
   "mimetype": "text/x-python",
   "name": "python",
   "nbconvert_exporter": "python",
   "pygments_lexer": "ipython3",
   "version": "3.11.9"
  }
 },
 "nbformat": 4,
 "nbformat_minor": 2
}
