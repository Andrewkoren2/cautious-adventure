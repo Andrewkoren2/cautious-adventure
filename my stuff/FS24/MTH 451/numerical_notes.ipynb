{
 "cells": [
  {
   "cell_type": "markdown",
   "metadata": {},
   "source": [
    "# Mth 451\n",
    "\n"
   ]
  },
  {
   "cell_type": "markdown",
   "metadata": {},
   "source": [
    "Day 2 - chopping & error\n",
    "\n",
    "Note, if these notes are confusing, just check out 1.2 from the textbook\n",
    "\n",
    "Chopping\n",
    "$$\n",
    "\\dfrac{\\|P - P^*\\|}{|P|} \\leq 10^{-k+1}\n",
    "$$\n",
    "\n",
    "Rounding\n",
    "$$\n",
    "\\dfrac{|P-P^*|}{|P|} \\leq 0.5 * 10^{-k+1}\n",
    "$$\n",
    "\n"
   ]
  },
  {
   "cell_type": "markdown",
   "metadata": {},
   "source": [
    "Subtraction of very close numbers: the first k values are equivalent\n",
    "\n",
    "$$\n",
    "x = o_1d_1 \\dots d_k d_{k+1}\\dots d_p \\dots \\times 10^r\\\\\n",
    "y = o_1d_1 \\dots d_k \\beta_{k+1}\\dots \\beta_p \\dots \\times 10^r\n",
    "$$\n",
    "Pretty easy to run.\n",
    "\n",
    "$$\n",
    "\\left| \\frac{x-y}{x}\\right| = \\frac{d_{k+1}-\\beta_{k+1} + \\dots +d_p-\\beta_p}{o_1d_1 \\dots d_k d_{k+1}\\dots d_p \\dots}\\frac{\\times 10^r}{\\times 10^r}\n",
    "$$\n",
    "\n",
    "Division is not so simple, or quadratic equation. Symbolic calculators aren't great, they still need to be evaluated eventually.\n",
    "\n"
   ]
  },
  {
   "cell_type": "markdown",
   "metadata": {},
   "source": []
  }
 ],
 "metadata": {
  "language_info": {
   "name": "python"
  }
 },
 "nbformat": 4,
 "nbformat_minor": 2
}
